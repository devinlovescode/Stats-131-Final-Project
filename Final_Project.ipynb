{
  "cells": [
    {
      "metadata": {
        "_uuid": "8f2839f25d086af736a60e9eeb907d3b93b6e0e5",
        "_cell_guid": "b1076dfc-b9ad-4769-8c92-a6c4dae69d19",
        "trusted": true
      },
      "cell_type": "code",
      "source": "# This Python 3 environment comes with many helpful analytics libraries installed\n# It is defined by the kaggle/python docker image: https://github.com/kaggle/docker-python\n# For example, here's several helpful packages to load in \n\nimport numpy as np # linear algebra\nimport pandas as pd # data processing, CSV file I/O (e.g. pd.read_csv)\nimport matplotlib.pyplot as plt\nimport seaborn as sns\nimport matplotlib.cm as cm\nimport math\nimport plotly.graph_objs as go\nimport plotly.figure_factory as ff\nfrom plotly import tools\nfrom plotly.offline import download_plotlyjs, init_notebook_mode, plot, iplot\nfrom scipy.cluster.hierarchy import dendrogram, linkage\n\ninit_notebook_mode(connected=True)\n\n# Input data files are available in the \"../input/\" directory.\n# For example, running this (by clicking run or pressing Shift+Enter) will list the files in the input directory\n\nimport os\nprint(os.listdir(\"../input\"))\n\n# Any results you write to the current directory are saved as output.",
      "execution_count": null,
      "outputs": []
    },
    {
      "metadata": {
        "_uuid": "3382dde77545513317fb03f25ec776704cb80c69"
      },
      "cell_type": "markdown",
      "source": "**Table Tennis Exploratory Data Analysis**"
    },
    {
      "metadata": {
        "trusted": true,
        "_uuid": "79b90179301a0777681197b3c93f0bec7dc50ad1"
      },
      "cell_type": "code",
      "source": "olympics = pd.read_csv('../input/athlete_events.csv')",
      "execution_count": null,
      "outputs": []
    },
    {
      "metadata": {
        "trusted": true,
        "_uuid": "4a57af6dac94042fc4d0667628481eb6f2129e09"
      },
      "cell_type": "code",
      "source": "# Clean the Team column\n# Some of the entries in the column contain the country name followed by a dash and a number, such as China-2.\nnew_Team = [team[:-2] if team[-2] == '-' else team for team in olympics.Team]\nolympics.Team = new_Team\n\ntt_men = olympics.loc[(olympics.Sport == \"Table Tennis\") & (olympics.Sex == 'M')]\ntt_women = olympics.loc[(olympics.Sport == \"Table Tennis\") & (olympics.Sex == 'F')]\ntt_men_singles = olympics.loc[(olympics.Event == \"Table Tennis Men's Singles\")]",
      "execution_count": null,
      "outputs": []
    },
    {
      "metadata": {
        "trusted": true,
        "_uuid": "b5b5254ebe3e9bba3ddca81c003029e0408fda88"
      },
      "cell_type": "code",
      "source": "# Histograms for the age, height, and weight of table tennis players, grouped by gender\ntt_men.Age.plot(kind='hist', title = 'Athlete Age Distribution', alpha=0.5, label = 'Male')\ntt_women.Age.plot(kind='hist', alpha=0.5, label = 'Female')\nplt.xlabel('Age')\nplt.legend(loc ='upper right')\nplt.show()\n\ntt_men.Height.plot(kind='hist', title = 'Athlete Height Distribution', alpha=0.5, label = 'Male')\ntt_women.Height.plot(kind='hist', alpha=0.5, label = 'Female')\nplt.xlabel('Height (cm)')\nplt.legend(loc ='upper right')\nplt.show()\n\ntt_men.Weight.plot(kind='hist', title = 'Athlete Weight Distribution', alpha=0.5, label = 'Male')\ntt_women.Weight.plot(kind='hist', alpha=0.5, label = 'Female')\nplt.xlabel('Weight (kg)')\nplt.legend(loc ='upper right')\nplt.show()",
      "execution_count": null,
      "outputs": []
    },
    {
      "metadata": {
        "trusted": true,
        "_uuid": "9d9db7b20ee4ddd8c8736528ae4d4f06b53f1cf1"
      },
      "cell_type": "code",
      "source": "# Examine the huge outlier in the weight histogram\ntt_women.loc[tt_women.Weight == tt_women.Weight.max()]",
      "execution_count": null,
      "outputs": []
    },
    {
      "metadata": {
        "trusted": true,
        "_uuid": "135daa1b36030608b6aa26a0ba6aa2331795fcc8"
      },
      "cell_type": "code",
      "source": "# Looking for a particular player I knew\ntt_women.loc[tt_women.Name == 'Ariel Yenhua Hsing']",
      "execution_count": null,
      "outputs": []
    },
    {
      "metadata": {
        "trusted": true,
        "_uuid": "1606d21edf36949f146f4b6c126ac875b0284fa7"
      },
      "cell_type": "code",
      "source": "# Ariel defeated the oldest female athlete, Ni Xia Lian, in the round of 64\ntt_women.loc[tt_women.Age == tt_women.Age.max()]",
      "execution_count": null,
      "outputs": []
    },
    {
      "metadata": {
        "trusted": true,
        "_uuid": "bffddec415821f3a681a0e4f28d8c01c3cef1df0"
      },
      "cell_type": "code",
      "source": "# Is the oldest athlete male or female?\ntt_men.loc[tt_men.Age == tt_men.Age.max()]",
      "execution_count": null,
      "outputs": []
    },
    {
      "metadata": {
        "trusted": true,
        "_uuid": "03a0418022d5320f45673ef9322aa3f70867025d"
      },
      "cell_type": "code",
      "source": "men_singles_bronze = tt_men_singles.loc[tt_men_singles.Medal == 'Bronze'].groupby('Year')['Year'].count()\nmen_singles_bronze\n\n# Upon further research, there was no third place game played in 1992, leading to two bronze medals.",
      "execution_count": null,
      "outputs": []
    },
    {
      "metadata": {
        "trusted": true,
        "_uuid": "f19c176b53fed9e56220d71d715f627df6861cee"
      },
      "cell_type": "code",
      "source": "total_medals_country_men = tt_men.loc[pd.notnull(tt_men.Medal)].groupby('Team').Team.count()\ntotal_medals_country_men",
      "execution_count": null,
      "outputs": []
    },
    {
      "metadata": {
        "trusted": true,
        "_uuid": "47c1c938e3b2c9f64a0ce557d24db4dfc405b2f0"
      },
      "cell_type": "code",
      "source": "total_medals_country_women = tt_women.loc[pd.notnull(tt_women.Medal)].groupby('Team').Team.count()\ntotal_medals_country_women",
      "execution_count": null,
      "outputs": []
    },
    {
      "metadata": {
        "trusted": true,
        "_uuid": "d832e11629b13a57e34fce638baa865c17d6cc40"
      },
      "cell_type": "code",
      "source": "df = pd.DataFrame(data = {'Medals':total_medals_country_men}, index=total_medals_country_men.index).reset_index()\nprint(df)",
      "execution_count": null,
      "outputs": []
    },
    {
      "metadata": {
        "trusted": true,
        "_uuid": "6c3e92937b2e982cddf55e0c9756e99ce0121671"
      },
      "cell_type": "code",
      "source": "trace = go.Choropleth(\n            locations = df['Team'],\n            locationmode='country names',\n            z = df['Medals'],\n            text = df['Team'],\n            autocolorscale = False,\n            reversescale = True,\n            colorscale = 'Viridis',\n            marker = dict(\n                line = dict(\n                    color = 'rgb(0,0,0)',\n                    width = 1)\n            ),\n            colorbar = dict(\n                title = 'Medals',\n                tickprefix = '')\n        )\n\ndata = [trace]\nlayout = go.Layout(\n    title = 'Table Tennis Medals by Country (Men)',\n    geo = dict(\n        showframe = True,\n        showlakes = False,\n        showcoastlines = True,\n        projection = dict(\n            type = 'natural earth'\n        )\n    )\n)\n\nfig = dict( data=data, layout=layout )\niplot(fig)",
      "execution_count": null,
      "outputs": []
    },
    {
      "metadata": {
        "trusted": true,
        "_uuid": "6b4250ee56f131619ac248039fa93f7b0768a236"
      },
      "cell_type": "code",
      "source": "df2 = pd.DataFrame(data = {'Medals':total_medals_country_women}, index=total_medals_country_women.index).reset_index()\nprint(df2)",
      "execution_count": null,
      "outputs": []
    },
    {
      "metadata": {
        "trusted": true,
        "_uuid": "8cd2387b478eac2bbcfb6d1f675daf447c0af4c0"
      },
      "cell_type": "code",
      "source": "trace2 = go.Choropleth(\n            locations = df2['Team'],\n            locationmode='country names',\n            z = df2['Medals'],\n            text = df2['Team'],\n            autocolorscale = False,\n            reversescale = True,\n            colorscale = 'Viridis',\n            marker = dict(\n                line = dict(\n                    color = 'rgb(0,0,0)',\n                    width = 1)\n            ),\n            colorbar = dict(\n                title = 'Medals',\n                tickprefix = '')\n        )\n\ndata2 = [trace2]\nlayout = go.Layout(\n    title = 'Table Tennis Medals by Country (Women)',\n    geo = dict(\n        showframe = True,\n        showlakes = False,\n        showcoastlines = True,\n        projection = dict(\n            type = 'natural earth'\n        )\n    )\n)\n\nfig2 = dict( data=data2, layout=layout )\niplot(fig2)",
      "execution_count": null,
      "outputs": []
    },
    {
      "metadata": {
        "_uuid": "247c263158dc018c64e3f47567b030df26e2667b"
      },
      "cell_type": "markdown",
      "source": "**Swimming Event 100 Meters**"
    },
    {
      "metadata": {
        "trusted": true,
        "_uuid": "22980c7d203262dcb5f48a632b350c729e8be8ad"
      },
      "cell_type": "code",
      "source": "df_events = pd.read_csv(\"../input/athlete_events.csv\")\ndf_events = df_events.loc[df_events.Year >= 1994]\ndf_regions = pd.read_csv(\"../input/noc_regions.csv\")\ndf_joined = df_regions.merge(df_events, on='NOC')",
      "execution_count": null,
      "outputs": []
    },
    {
      "metadata": {
        "_uuid": "efa532b89b582dc93b07577b5f4b617b364aab8c"
      },
      "cell_type": "markdown",
      "source": "The first thing I noticed is that the there are two files that aren't very large so I am going to just read the whole files in. If the files were larger I wouldn't attempt to read the whole files in."
    },
    {
      "metadata": {
        "trusted": true,
        "_uuid": "9999b15430acca4b1211fca26bf71a86e382950f"
      },
      "cell_type": "code",
      "source": "# df_joined[df_joined.Sport.unique()]\ntmp = df_joined.loc[df_joined.Sport == 'Swimming', ['Event', 'Height', 'Weight']]\nswimming_events = pd.Series(tmp.Event.unique()[1:10])\n# print()\n\nplt.figure()\nsns.stripplot(x='Event', y='Height', data=tmp.loc[tmp.Event.isin(swimming_events)])\nplt.xticks(rotation=60)\nplt.show()\nplt.figure()\nsns.stripplot(x='Event', y='Weight', data=tmp.loc[tmp.Event.isin(swimming_events)])\nplt.xticks(rotation=60)\nplt.show()",
      "execution_count": null,
      "outputs": []
    },
    {
      "metadata": {
        "trusted": true,
        "_uuid": "df53df35180a55619c804a3095048817f05d8bac"
      },
      "cell_type": "code",
      "source": "missing_vals = df_joined.isna().sum(axis=0).reset_index()\nmissing_vals.columns = ['Label', 'Count']\nmissing_vals = missing_vals.loc[missing_vals.Count > 0]\nmissing_vals",
      "execution_count": null,
      "outputs": []
    },
    {
      "metadata": {
        "trusted": true,
        "_uuid": "25ec3242ce9c0f8ad854f3c6ef4e9a80f637a3c1"
      },
      "cell_type": "code",
      "source": "plt.figure()\nbarplot = sns.barplot(x='Label', y='Count', data=missing_vals)\nbarplot.set(title='Count of Missing Values', xlabel='variables', ylabel='missing values')\nplt.xticks(rotation=60)\nplt.show()",
      "execution_count": null,
      "outputs": []
    },
    {
      "metadata": {
        "trusted": true,
        "_uuid": "1373094214f783f99fcba903c201c2384560feac"
      },
      "cell_type": "code",
      "source": "# which country has the most medals?\nprint(df_events.isna().sum(axis=0).reset_index())\nprint(df_regions.isna().sum(axis=0).reset_index())",
      "execution_count": null,
      "outputs": []
    },
    {
      "metadata": {
        "trusted": true,
        "_uuid": "1b7035e17c9ceb2bafd8b4b369cf051177533240"
      },
      "cell_type": "code",
      "source": "swimming_events = df_joined.loc[df_joined.Sport == 'Swimming']\nswimming_events = swimming_events.Event.unique()\nevent_subset = df_joined.Event.isin(swimming_events[11:20])\nevent_subset = df_joined.loc[event_subset]",
      "execution_count": null,
      "outputs": []
    },
    {
      "metadata": {
        "trusted": true,
        "_uuid": "70053a8dd06f757a840e305de27477fdd4200568"
      },
      "cell_type": "code",
      "source": "plt.figure()\nsns.stripplot(x='Event', y='Height', data=event_subset)\nplt.xticks(rotation=90)\nplt.show()",
      "execution_count": null,
      "outputs": []
    },
    {
      "metadata": {
        "trusted": true,
        "_uuid": "c065d9d8c6262716d0c8e69ec8dde0850e45c433"
      },
      "cell_type": "code",
      "source": "swimming_events = df_joined.loc[df_joined.Sport == 'Swimming']\nswimming_events_100m_subset = pd.Series(data=[\"Swimming Women's 100 metres Backstroke\",\n                        \"Swimming Men's 100 metres Freestyle\",\n                        \"Swimming Women's 100 metres Butterfly\",\n                        \"Swimming Men's 100 metres Breaststroke\",\n                        \"Swimming Women's 100 metres Freestyle\",\n                        \"Swimming Men's 100 metres Backstroke\",\n                        \"Swimming Men's 100 metres Butterfly\",\n                        \"Swimming Women's 100 metres Breaststroke\",\n                        \"Swimming Men's 100 Yard Backstroke\",\n                        \"Swimming Men's 100 yard Freestyle\"])\nswimming_events_100m = swimming_events.loc[swimming_events.Event.isin(swimming_events_100m_subset)]",
      "execution_count": null,
      "outputs": []
    },
    {
      "metadata": {
        "trusted": true,
        "_uuid": "988bcb0b5af09194c953a554c1eeebc84f7c65cf"
      },
      "cell_type": "code",
      "source": "plt.figure()\nsns.stripplot(x='Event', y='Height', hue='Sex', data=swimming_events_100m)\nplt.xticks(rotation=90)\nplt.show()\n\nplt.figure()\nsns.stripplot(x='Event', y='Weight', hue='Sex', data=swimming_events_100m)\nplt.xticks(rotation=90)\nplt.show()",
      "execution_count": null,
      "outputs": []
    },
    {
      "metadata": {
        "trusted": true,
        "_uuid": "b25fc00790b61ad32c30f2274b53e05d4d1822cd"
      },
      "cell_type": "code",
      "source": "swimming_events_100m.loc['Placed'] = swimming_events_100m.Medal.apply(lambda x: 1 if pd.isnull(x) else 0)\nse100m_winners = swimming_events_100m.loc[~swimming_events_100m.Medal.isnull()]",
      "execution_count": null,
      "outputs": []
    },
    {
      "metadata": {
        "trusted": true,
        "_uuid": "b34e127e452a670a4efc24fa3fdbc8e5d261b306"
      },
      "cell_type": "code",
      "source": "plt.figure()\n# swimming_events_100m.groupby('NOC').Placed.sum()\nsns.countplot('NOC', data = se100m_winners)\nplt.xticks(rotation=90)\nplt.show()",
      "execution_count": null,
      "outputs": []
    },
    {
      "metadata": {
        "trusted": true,
        "_uuid": "d6a318330ff4c28dc2eee270a5a8e7e5cf8a3dca"
      },
      "cell_type": "code",
      "source": "plt.figure()\n# swimming_events_100m.groupby('NOC').Placed.sum()\nsns.countplot('NOC', data = se100m_winners.loc[~se100m_winners.NOC.isin(['USA','AUS'])])\nplt.xticks(rotation=90)\nplt.show()",
      "execution_count": null,
      "outputs": []
    },
    {
      "metadata": {
        "trusted": true,
        "_uuid": "b2b00f51883f908c0dc9f9bc72eb3915ef7cde60"
      },
      "cell_type": "code",
      "source": "# plt.figure()\n# swimming_events_100m.groupby('NOC').Placed.sum()\n# sns.stripplot('NOC', data = se100m_winners.loc[~se100m_winners.NOC.isin(['USA','AUS'])],\n#              hue=\"event\")\n# plt.xticks(rotation=90)\n# plt.show()\n# se100m_winners.loc[~se100m_winners.NOC.isin(['USA','AUS']), ['Year', 'Event', 'NOC', 'region']].sort_values(by='Year')\nplt.figure()\nsns.countplot('Team', data = se100m_winners.loc[~se100m_winners.NOC.isin(['USA','AUS']), ['Year', 'Event', 'Team', 'region']].sort_values(by='Year'))\nplt.xticks(rotation=90)\nplt.show()\n\n# se100m_winners.loc[se100m_winners.NOC == 'NED', ['Year', 'Event']].sort_values('Year')\n# se100m_winners.loc[se100m_winners.Year.isin([2012,2016]), ['Year', 'Event', 'region']].sort_values(by=['Year', 'Event'])\nplt.figure()\nsns.countplot('Team', data = se100m_winners.loc[se100m_winners.Year.isin([2012,2016]), ['Year', 'NOC', 'Event', 'Team']])\nplt.xticks(rotation=90)\nplt.show()",
      "execution_count": null,
      "outputs": []
    },
    {
      "metadata": {
        "trusted": true,
        "_uuid": "104fd8109b9219ef4d58441c44d5b540a97ef171"
      },
      "cell_type": "code",
      "source": "# se100m_winners.head(5)\ntmp = se100m_winners.groupby(['Year','Team']).count().Medal.reset_index()\n# tmp.Year = pd.to_datetime(tmp.Year, yearfirst=True)\n# print(tmp)\nchamps = tmp.loc[(tmp.Medal > 5) | (tmp.Medal == 0)].Team.unique()\ntmp = tmp.loc[~tmp.Team.isin(champs)]\n\nplt.figure()\nplt.subplots(figsize=(20,10))\nsns.lineplot(x=\"Year\", y=\"Medal\", hue = 'Team',\n             data=tmp)\nplt.xticks(np.linspace(1994, 2016, num=12))\nplt.show()",
      "execution_count": null,
      "outputs": []
    },
    {
      "metadata": {
        "trusted": true,
        "_uuid": "288cc8383ac9e79bafefd713e71e52598e96a65d"
      },
      "cell_type": "code",
      "source": "",
      "execution_count": null,
      "outputs": []
    },
    {
      "metadata": {
        "trusted": true,
        "_uuid": "cf97896b0c36c4713a5e52c90184f453e294d9d0"
      },
      "cell_type": "code",
      "source": "",
      "execution_count": null,
      "outputs": []
    },
    {
      "metadata": {
        "_uuid": "c1a78e0c1a7cb6f89508c7558541d71c5c47ae13"
      },
      "cell_type": "markdown",
      "source": "**Track and Field: 100M Sprint**"
    },
    {
      "metadata": {
        "_uuid": "374ba5547b87ae6c6c61baa3277ff7a940a5b06d"
      },
      "cell_type": "markdown",
      "source": "**Figure Skating**\n\n"
    },
    {
      "metadata": {
        "trusted": true,
        "_uuid": "d47e5c8309918648167db524224d7774910fead5"
      },
      "cell_type": "code",
      "source": "data = pd.read_csv('../input/athlete_events.csv')\nnoc = pd.read_csv('../input/noc_regions.csv')",
      "execution_count": null,
      "outputs": []
    },
    {
      "metadata": {
        "_uuid": "9913d6914077393802ce070e4faba0fb6420571f"
      },
      "cell_type": "markdown",
      "source": "Figure skating has been an Olympic sport since the 1908 Summer Olympics. There are a total of 5 events within the category, a solo event for men and women, and 3 paired events. Originally it started as Men's Singles, Women's Singles, and Mixed Pairs, but in 1976 Ice Dancing became an event and in 2014 a Mixed Team event was also created. In this exploratory data analysis we will focus on the single events."
    },
    {
      "metadata": {
        "trusted": true,
        "_uuid": "156f5e5998a8b42f314f52bf099ad058cd2c0778"
      },
      "cell_type": "code",
      "source": "print(data[data['Sport'] == 'Figure Skating'].groupby('Event').Event.count())",
      "execution_count": null,
      "outputs": []
    },
    {
      "metadata": {
        "trusted": true,
        "_uuid": "023f2e475bc2db420cb32d11457778515a7befd7"
      },
      "cell_type": "code",
      "source": "print(data[data['Sport'] == 'Figure Skating'].groupby('Event').Event.count())",
      "execution_count": null,
      "outputs": []
    },
    {
      "metadata": {
        "trusted": true,
        "_uuid": "17f35c9ffafd68f3c0de26b6420f64477f4e3535"
      },
      "cell_type": "code",
      "source": "print(data[data['Event'] == \"Figure Skating Men's Special Figures\"])",
      "execution_count": null,
      "outputs": []
    },
    {
      "metadata": {
        "trusted": true,
        "_uuid": "8ed4d50b487aee57b5753997af4c8c550e789e9f"
      },
      "cell_type": "code",
      "source": "print(data[data['Event'] == 'Figure Skating Mixed Pairs'].groupby(['Year','Team']).ID.count().head(10))",
      "execution_count": null,
      "outputs": []
    },
    {
      "metadata": {
        "_uuid": "5110b35ac80ada736f3313663bb39417372e7d70"
      },
      "cell_type": "markdown",
      "source": "We see that the data contains two athlete ID's per team for mixed pairs event."
    },
    {
      "metadata": {
        "trusted": true,
        "_uuid": "57129f42fa43d5c3d73f04b6978cc9e41018ada4"
      },
      "cell_type": "code",
      "source": "print(data.groupby('Sport').Age.mean().sort_values(ascending=True).head())",
      "execution_count": null,
      "outputs": []
    },
    {
      "metadata": {
        "trusted": true,
        "_uuid": "569250b824456b5a6a9e18015830c44d004a4c67"
      },
      "cell_type": "code",
      "source": "mfs = data[data['Event'] == \"Figure Skating Men's Singles\"]\nffs = data[data['Event'] == \"Figure Skating Women's Singles\"]",
      "execution_count": null,
      "outputs": []
    },
    {
      "metadata": {
        "trusted": true,
        "_uuid": "7bd5000d50361d54420e95f9d43580f28e7e375f"
      },
      "cell_type": "code",
      "source": "print(mfs.shape,\"\\n\", ffs.shape)",
      "execution_count": null,
      "outputs": []
    },
    {
      "metadata": {
        "trusted": true,
        "_uuid": "557249a3b17fd3e40c1895105877455a65c23b34"
      },
      "cell_type": "code",
      "source": "## For Men\nprint(mfs.mean(), '\\n')\nprint(mfs.median())",
      "execution_count": null,
      "outputs": []
    },
    {
      "metadata": {
        "trusted": true,
        "_uuid": "1a1c9062b521ba6fc0ae133f68bd12fc88300dee"
      },
      "cell_type": "code",
      "source": "## For Women\nprint(ffs.mean(), '\\n')\nprint(ffs.median())",
      "execution_count": null,
      "outputs": []
    },
    {
      "metadata": {
        "trusted": true,
        "_uuid": "6d6a37c6d8ea32145c73a5989211b3a144559a0e"
      },
      "cell_type": "code",
      "source": "sns.distplot(mfs.Age.dropna(), color = 'blue', hist = False, label='men')\nsns.distplot(ffs.Age.dropna(), color = 'red', hist = False, label='women')\nplt.ylabel('Density')\nplt.title('Ages in Figure Skating')\nplt.show()",
      "execution_count": null,
      "outputs": []
    },
    {
      "metadata": {
        "_uuid": "f31ca639e78bcdd359ad6a7579dac3876644e34b"
      },
      "cell_type": "markdown",
      "source": "Pretty hard cutoff by 30 for women, and most women appear to be under twenty years old. Men's age is more normally distributed, with some athletes that compete over 30."
    },
    {
      "metadata": {
        "trusted": true,
        "_uuid": "1b70d068bbff1343d3bd3e0e44ca39530bd754b5"
      },
      "cell_type": "code",
      "source": "sns.distplot(mfs.Height.dropna(), color = 'blue', hist=False, label = 'men')\nsns.distplot(ffs.Height.dropna(), color = 'red', hist=False, label = 'women')\nplt.ylabel('Density')\nplt.title('Height(in cm) in Figure Skating')\nplt.show()",
      "execution_count": null,
      "outputs": []
    },
    {
      "metadata": {
        "_uuid": "cebf8346eb6dde3052a2473c9f23ad8647e40e8e"
      },
      "cell_type": "markdown",
      "source": "Nothing particularly exciting about this graph. Both genders have normally distributed heights."
    },
    {
      "metadata": {
        "trusted": true,
        "_uuid": "36af684c758ed1dafb8280330a639a1f83c4a069"
      },
      "cell_type": "code",
      "source": "sns.distplot(mfs.Weight.dropna(), color = 'blue', hist=False, label = 'men')\nsns.distplot(ffs.Weight.dropna(), color = 'red', hist=False, label = 'women')\nplt.ylabel('Density')\nplt.title('Weight(in kg) in Figure Skating')\nplt.show()",
      "execution_count": null,
      "outputs": []
    },
    {
      "metadata": {
        "_uuid": "34c2e8696aa64a36940c32d35caebc52eb3ce5c6"
      },
      "cell_type": "markdown",
      "source": "More normal curves. Are figure skaters potentially underweight for their respective heights/age? One way to test this is with BMI (not the most reliable methods, but possible given our data)."
    },
    {
      "metadata": {
        "trusted": true,
        "_uuid": "7a1ccb128b6b9f867b53748486f5305fae113518"
      },
      "cell_type": "code",
      "source": "tempm = mfs[['Weight', 'Height']].dropna()\ntempf = ffs[['Weight', 'Height']].dropna()\ntempm.Height = tempm.Height/100.0\ntempf.Height = tempf.Height/100.0\nBMIm = tempm.Weight/(tempm.Height*tempm.Height)\nBMIf = tempf.Weight/(tempf.Height*tempf.Height)",
      "execution_count": null,
      "outputs": []
    },
    {
      "metadata": {
        "trusted": true,
        "_uuid": "c429d5b6ecc3ee53242a482308e795b93f6685b3"
      },
      "cell_type": "code",
      "source": "sns.distplot(BMIm, color = 'blue', hist=False, label = 'men')\nsns.distplot(BMIf, color = 'red', hist=False, label= 'women')\nplt.ylabel('Density')\nplt.title('BMI Scores in Figure Skating')\nplt.show()",
      "execution_count": null,
      "outputs": []
    },
    {
      "metadata": {
        "_uuid": "a076225e1d0bcb3360533a7ec0659c51cf35de0c"
      },
      "cell_type": "markdown",
      "source": "\nA \"healthy\" BMI value is considered to be between 18.5 to 24. We can see here that the men mostly fit into that area, but female figure skaters have a lower BMI overall. Could these lower BMI values be associated with what country these athletes are coming from?"
    },
    {
      "metadata": {
        "trusted": true,
        "_uuid": "011f9148c1bdaf9309c7d161db21cd50e7ad11f9"
      },
      "cell_type": "code",
      "source": "tempbmi = ffs.loc[BMIf.index,['Name','Team', 'Age', 'NOC', 'Year', 'Medal']]\ntempbmi['BMI'] = BMIf\ntempbmi = pd.merge(tempbmi, noc, how='left', on ='NOC')",
      "execution_count": null,
      "outputs": []
    },
    {
      "metadata": {
        "trusted": true,
        "_uuid": "8caf092eed3898b46eb080aaf0b3dd71c12ce8bc"
      },
      "cell_type": "code",
      "source": "print(tempbmi.groupby('region').BMI.mean().sort_values(ascending=True).head(10), \"\\n\")\nprint(tempbmi.groupby('region').BMI.mean().sort_values(ascending=True).tail(10), \"\\n\")",
      "execution_count": null,
      "outputs": []
    },
    {
      "metadata": {
        "_uuid": "f6b10e3675c3fc93656dac825dc3ea9d07575b57"
      },
      "cell_type": "markdown",
      "source": "We see that while some countries have good BMI score means, others have a low mean value."
    },
    {
      "metadata": {
        "_uuid": "ec6dbd0b898fdca2d0d6dda3ada48adfde7e36bc"
      },
      "cell_type": "markdown",
      "source": "**Medals Won in Figure Skating**"
    },
    {
      "metadata": {
        "trusted": true,
        "_uuid": "5e72eb7807fb5027272e5034a373306b4d75b8af"
      },
      "cell_type": "code",
      "source": "mfs = pd.merge(mfs, noc, how='left', on='NOC')\nffs = pd.merge(ffs, noc, how='left', on='NOC')",
      "execution_count": null,
      "outputs": []
    },
    {
      "metadata": {
        "_uuid": "6087e3ab8914a86b1adaedf3ec0e360d86507ac2"
      },
      "cell_type": "markdown",
      "source": "**Medals per NOC Committee**"
    },
    {
      "metadata": {
        "trusted": true,
        "_uuid": "16b93267d9d4a7188f56ef719b00cdf31e3465f5"
      },
      "cell_type": "code",
      "source": "\n## Total medals for men's singles by country\nmenmedals = mfs.groupby('region').Medal.count().sort_values(ascending=False)\nprint(menmedals.head(10), \"\\n\\n\\n\")\n\n## Total medels for women's singles by country\nwomenmedals = ffs.groupby('region').Medal.count().sort_values(ascending=False)\nprint(womenmedals.head(10))",
      "execution_count": null,
      "outputs": []
    },
    {
      "metadata": {
        "_uuid": "4afba094e308f937ea9392f0b8b975aa074c4d02"
      },
      "cell_type": "markdown",
      "source": "We see some similar countries, such as the USA, Russia, Austria, and Germany that are top competitors for both the men's and women's events."
    },
    {
      "metadata": {
        "trusted": true,
        "_uuid": "656a83c1a7383d7995f0f357a7a5312edd2138c9"
      },
      "cell_type": "code",
      "source": "## Medals won per Rank per Country\nprint(mfs.groupby(['region', 'Medal']).Medal.count().sort_values(ascending = False).head(15), \"\\n\\n\\n\\n\")\nprint(ffs.groupby(['region', 'Medal']).Medal.count().sort_values(ascending = False).head(15))",
      "execution_count": null,
      "outputs": []
    },
    {
      "metadata": {
        "trusted": true,
        "_uuid": "f275cfacf61e7bcdfc812cc8b15114ccf8bc8eea"
      },
      "cell_type": "code",
      "source": "print(mfs.groupby('Medal').region.nunique(), '\\n\\n\\n')\nprint(ffs.groupby('Medal').region.nunique())",
      "execution_count": null,
      "outputs": []
    },
    {
      "metadata": {
        "trusted": true,
        "_uuid": "b54de868d34ab4abf0dcb33ae9544d4904fa1fed"
      },
      "cell_type": "code",
      "source": "print(mfs.groupby('region').Medal.count().sort_values(ascending=False).head(10), '\\n\\n\\n')\nprint(ffs.groupby('region').Medal.count().sort_values(ascending=False).head(10))",
      "execution_count": null,
      "outputs": []
    },
    {
      "metadata": {
        "trusted": true,
        "_uuid": "fe795ade8d48279c815ae915660251a040f379b3"
      },
      "cell_type": "code",
      "source": "## Number of NOC committees participating per event\nprint(ffs.region.nunique())\nprint(mfs.region.nunique(), '\\n')\n\n## Number of Medals obtained from 1908 to 2014 per event\nprint(mfs.Medal.count())\nprint(ffs.Medal.count())",
      "execution_count": null,
      "outputs": []
    },
    {
      "metadata": {
        "_uuid": "b973ab09956a02b2dd4a978ab3471d2b5d378d1a"
      },
      "cell_type": "markdown",
      "source": "We see that out of 44 countries that compete, very few of them have ever achieved medalists (less than half of them receive any medals at all). For female athletes in particular, the USA alone won almost one third of all possible medals in the singles event for the entire lifetime of the event at the Olympics."
    },
    {
      "metadata": {
        "trusted": true,
        "_uuid": "90f1ef70d382da2693a201dc3564f69fbe21fb9f"
      },
      "cell_type": "code",
      "source": "",
      "execution_count": null,
      "outputs": []
    },
    {
      "metadata": {
        "trusted": true,
        "_uuid": "1991dc2a00ab1a6647bf41d9d03a8e9a1d0a4d75"
      },
      "cell_type": "code",
      "source": "## The number of medals won per athlete\nm_med = mfs.groupby(['Name', 'Team']).Medal.count()\nf_med = ffs.groupby(['Name', 'Team']).Medal.count()\nprint(m_med.sort_values(ascending=False).head(10), '\\n\\n\\n')\nprint(f_med.sort_values(ascending=False).head(10))",
      "execution_count": null,
      "outputs": []
    },
    {
      "metadata": {
        "_uuid": "400f1ce3a5da319d6af097f66efd3f96b0479a4f"
      },
      "cell_type": "markdown",
      "source": "The highest number of Medals won by an Olympic Figure Skater was 4. We see that it is not too uncommon for figure skaters to attempt multiple years if they were successful previously."
    },
    {
      "metadata": {
        "trusted": true,
        "_uuid": "233811527741e90d0be3066068878aa58ad79aab"
      },
      "cell_type": "code",
      "source": "## The number of Olympics participated in per athlete\nm_oly = mfs.groupby(['Name', 'Team']).Year.nunique()\nf_oly = ffs.groupby(['Name', 'Team']).Year.nunique()\nprint(m_oly.sort_values(ascending=False).head(10), '\\n\\n\\n')\nprint(f_oly.sort_values(ascending=False).head(10))",
      "execution_count": null,
      "outputs": []
    },
    {
      "metadata": {
        "_uuid": "b448ce9e67873a6dd58d59c2424df48f009b3323"
      },
      "cell_type": "markdown",
      "source": "It will probably be more interesting to observe the proportion between their medal count and Olympic attempts (their \"success rate\" at the Olympic Games)."
    },
    {
      "metadata": {
        "trusted": true,
        "_uuid": "252da1ccdffeb8b6e7a718c011f3bcf0c06051c5"
      },
      "cell_type": "code",
      "source": "m_attempt = pd.merge(pd.DataFrame(m_med).reset_index(), pd.DataFrame(m_oly).reset_index(), on = 'Name')\nf_attempt = pd.merge(pd.DataFrame(f_med).reset_index(), pd.DataFrame(f_oly).reset_index(), on = 'Name')\nm_attempt['Prop'] = m_attempt.Medal/m_attempt.Year\nf_attempt['Prop'] = f_attempt.Medal/f_attempt.Year",
      "execution_count": null,
      "outputs": []
    },
    {
      "metadata": {
        "trusted": true,
        "_uuid": "292812b26f405041f2fff6b265fb4f3503977846"
      },
      "cell_type": "code",
      "source": "print(m_attempt.loc[:,['Name','Team_x','Medal','Prop']].sort_values(['Prop','Medal'], ascending = False).head(10))",
      "execution_count": null,
      "outputs": []
    },
    {
      "metadata": {
        "trusted": true,
        "_uuid": "fe8240ea26068188c8a1d814d2e8b13cfcba5ec5"
      },
      "cell_type": "code",
      "source": "print(f_attempt.loc[:,['Name','Team_x','Medal','Prop']].sort_values(['Prop','Medal'], ascending = False).head(10))",
      "execution_count": null,
      "outputs": []
    },
    {
      "metadata": {
        "_uuid": "f684fc17aa2c37532bfa3fce97c38004a9a757a5"
      },
      "cell_type": "markdown",
      "source": "We see that Gillis Emanuel Grafström was the only athlete in figure skating to win 4 medals over 4 Olympic Games. However, there were several strong athletes that came back to the Olympics to win a second medal. We do see some problems though. Aleksey Yevgenyevich Urmanov is listed twice for males, which seems odd. We also see something wrong for Katarina Witt in East Germany. So we need investigate further."
    },
    {
      "metadata": {
        "trusted": true,
        "_uuid": "deab0acd663ab1c1022cccee24ad06a2d85d7cba"
      },
      "cell_type": "code",
      "source": "print(data[data['Name'] == 'Aleksey Yevgenyevich Urmanov'].loc[:,['Name','Team','NOC','Year','Medal']], '\\n\\n\\n')",
      "execution_count": null,
      "outputs": []
    },
    {
      "metadata": {
        "trusted": true,
        "_uuid": "4d18c3da16849bfe4493ac8357aba8f9ae5ddc7d"
      },
      "cell_type": "code",
      "source": "print(data[data['Name'] == 'Katarina Witt'].loc[:,['Name','Team','NOC','Year', 'Medal']], '\\n\\n\\n')",
      "execution_count": null,
      "outputs": []
    },
    {
      "metadata": {
        "_uuid": "4188f768fb7a75d8bdda77359211da0dc7169d6e"
      },
      "cell_type": "markdown",
      "source": "Because Katarina Witt participiated in Olymipcs from 1984 and 1994, her Team changed from East Germany to Germany after the reunification of Germany in 1989. From the actual data, we see she participated 3 times, and won 2 medals."
    },
    {
      "metadata": {
        "_uuid": "c799b49ed7a9cbd2d680a589f9f9fefd9dfd1a1b"
      },
      "cell_type": "markdown",
      "source": "Participants"
    },
    {
      "metadata": {
        "trusted": true,
        "_uuid": "84f0e04787d35b200d512c6783417542a37c2b04"
      },
      "cell_type": "code",
      "source": "m = pd.DataFrame(mfs.groupby('Year').Name.count()).reset_index()\nf = pd.DataFrame(ffs.groupby('Year').Name.count()).reset_index()\n\n#plt.scatter(mfs.Year.unique(), mfs.groupby('Year').Name.count(), color = 'blue')\n#plt.scatter(pd.DataFrame(ffs.groupby('Year').Name.count()).reindex())\nplt.plot(m['Year'], m['Name'], color = 'blue', label = 'men')\nplt.plot(f['Year'], f['Name'], color = 'red', label = 'women')\nplt.xlabel('Year')\nplt.ylabel('# of Participants')\nplt.title('# of Participants per Year')\nplt.legend(loc = 'lower right')\nplt.show()",
      "execution_count": null,
      "outputs": []
    },
    {
      "metadata": {
        "_uuid": "7e2c2784320ffb1cb6fb8c30a33eae9d45ea2a8d"
      },
      "cell_type": "markdown",
      "source": "\nWe see that the number of competitors in the events shifted drastically, and only stabilized close to above 25 competitors after the year 2000."
    },
    {
      "metadata": {
        "trusted": true,
        "_uuid": "7f7c7e4c4d1a4d15e6862dabc109dcbfabc4f9a1"
      },
      "cell_type": "code",
      "source": "m_ppy = pd.DataFrame(mfs.groupby(['Year','region']).Name.nunique()).reset_index()\nf_ppy = pd.DataFrame(ffs.groupby(['Year','region']).Name.nunique()).reset_index()\n\nprint(m_ppy[m_ppy['Year'] == 2014], '\\n\\n\\n')\nprint(f_ppy[f_ppy['Year'] == 2014])",
      "execution_count": null,
      "outputs": []
    },
    {
      "metadata": {
        "_uuid": "6609d1f6b9df072ca247398a6b8abf56cbf4e934"
      },
      "cell_type": "markdown",
      "source": "For the 2014 Winter Olympics, Canada, Japan, and the USA brought a lot of members for both events.\n\n"
    },
    {
      "metadata": {
        "trusted": true,
        "_uuid": "87a3ef60a2c36044c555f1736f5c6e953d3a11d2"
      },
      "cell_type": "code",
      "source": "m_ppy = m_ppy[m_ppy['Year'] >= 2000]\nf_ppy = f_ppy[f_ppy['Year'] >= 2000]\n",
      "execution_count": null,
      "outputs": []
    },
    {
      "metadata": {
        "trusted": true,
        "_uuid": "1da45abf52b54a172d14ad3113dcaa21bef3e03b"
      },
      "cell_type": "code",
      "source": "sns.set_palette('deep', 44)\nplt.stackplot(m_ppy.pivot('Year','region','Name').index, np.transpose(m_ppy.pivot('Year','region', 'Name').fillna(0)))\nl1 = plt.legend(bbox_to_anchor=(1.38, 0), labels = m_ppy.pivot('Year','region','Name').columns[0:20], labelspacing = -2)\nl2 = plt.legend(bbox_to_anchor=(1.67,0.5), labels = m_ppy.pivot('Year', 'region', 'Name').columns[20:33], labelspacing = -2)\nplt.gca().add_artist(l1)\nplt.xlabel('Year')\nplt.xticks([2002, 2006, 2010, 2014])\nplt.ylabel('Participants')\nplt.title('Stackplot of Participants per Region')\nplt.show()",
      "execution_count": null,
      "outputs": []
    },
    {
      "metadata": {
        "_uuid": "399b7be1a0700a9fea08a81d602104efce656851"
      },
      "cell_type": "markdown",
      "source": "We see that in the four most recent Winter Olympics, countries like the USA, Japan, Canada, and France have been able to send multiple athletes for the men's single event. We see other countries such as North Korea, Poland, and Slovenia that were able to participate only once or twice, with only a single athlete representing their country."
    },
    {
      "metadata": {
        "trusted": true,
        "_uuid": "8734555f689c6842542bd7487b7e8832fbe1a401"
      },
      "cell_type": "code",
      "source": "\nplt.stackplot(f_ppy.pivot('Year','region','Name').index, np.transpose(f_ppy.pivot('Year','region', 'Name').fillna(0)))\nl1 = plt.legend(bbox_to_anchor=(1.38, 0), labels = f_ppy.pivot('Year','region','Name').columns[0:20], labelspacing = -2)\nl2 = plt.legend(bbox_to_anchor=(1.67,0.5), labels = f_ppy.pivot('Year', 'region', 'Name').columns[20:35], labelspacing = -2)\nplt.gca().add_artist(l1)\nplt.xlabel('Year')\nplt.xticks([2002, 2006, 2010, 2014])\nplt.ylabel('Participants')\nplt.title('Stackplot of Participants per Region')\nplt.show()",
      "execution_count": null,
      "outputs": []
    },
    {
      "metadata": {
        "_uuid": "8be5923d4859973c0f7fb2d44ed1330af4dbf01e"
      },
      "cell_type": "markdown",
      "source": "For women, we see USA, Russia, Canada, and Japan that are able to send more than one athlete per Olympics. However, unlike the male teams, we see other countries such as China, Uzbekistan, and Australia that are more consistently able to compete in this event."
    },
    {
      "metadata": {
        "_uuid": "282e8f9d88b97998d7f0f899a68d0305ba4c16f1"
      },
      "cell_type": "markdown",
      "source": "**Model**"
    },
    {
      "metadata": {
        "_uuid": "a79239eb7dd57f49c735be3840063b2c36a7cd67"
      },
      "cell_type": "markdown",
      "source": "Sport"
    },
    {
      "metadata": {
        "trusted": true,
        "_uuid": "64122a8eb5b559e5acd697888dd8eba31aae5051"
      },
      "cell_type": "code",
      "source": "olympics = pd.read_csv('../input/athlete_events.csv')",
      "execution_count": null,
      "outputs": []
    },
    {
      "metadata": {
        "trusted": true,
        "_uuid": "1459026207e8519d4c4b84011abee304d4abc9ec"
      },
      "cell_type": "code",
      "source": "olympics = olympics.loc[olympics.Year >= 1994]\n\n# Clean the Team column\n# Some of the entries in the column contain the country name followed by a dash and a number, such as China-2.\npd.options.mode.chained_assignment = None\nnew_Team = [team[:-2] if team[-2] == '-' else team for team in olympics.Team]\nolympics.Team = new_Team\n\ntop_countries = olympics.groupby('Team').Team.count().sort_values(ascending = False)[0:40,]\nolympics = olympics.loc[olympics.Team.isin(top_countries.index)]\n\nolympics_men = olympics.loc[olympics.Sex == 'M']\nolympics_women = olympics.loc[olympics.Sex == 'F']",
      "execution_count": null,
      "outputs": []
    },
    {
      "metadata": {
        "trusted": true,
        "_uuid": "44fe7f14c57e2432dcc481a5c34ddb5d20ae15ae"
      },
      "cell_type": "code",
      "source": "# Determine the most popular event within each sport category for men and women\ndf_men = olympics_men.groupby(['Sport','Event']).Sport.count()\nsports_men = df_men.index.get_level_values(0)\nevents_men = df_men.loc[df_men.groupby(sports_men).idxmax()].index.get_level_values(level=1).tolist()\n\ndf_women = olympics_women.groupby(['Sport','Event']).Sport.count()\nsports_women = df_women.index.get_level_values(0)\nevents_women = df_women.loc[df_women.groupby(sports_women).idxmax()].index.get_level_values(level=1).tolist()",
      "execution_count": null,
      "outputs": []
    },
    {
      "metadata": {
        "trusted": true,
        "_uuid": "d8146b40f86bb467cf6491a39525a0ec515390e6"
      },
      "cell_type": "code",
      "source": "olympics_men = olympics_men.loc[olympics_men.Event.isin(events_men)]\nolympics_women = olympics_women.loc[olympics_women.Event.isin(events_women)]",
      "execution_count": null,
      "outputs": []
    },
    {
      "metadata": {
        "trusted": true,
        "_uuid": "cf1dcedd5143062cadd3e99c2f3a00002c4ec41f"
      },
      "cell_type": "code",
      "source": "medals_men = olympics_men.loc[pd.notnull(olympics_men.Medal)].groupby(['Team','Event']).Team.count().unstack(level=0).fillna(0)\nmedals_women = olympics_women.loc[pd.notnull(olympics_women.Medal)].groupby(['Team','Event']).Team.count().unstack(level=0).fillna(0)",
      "execution_count": null,
      "outputs": []
    },
    {
      "metadata": {
        "trusted": true,
        "_uuid": "38856044ecfc2fd643c9fc26b726d9dfe22b5f3f"
      },
      "cell_type": "code",
      "source": "\nmergings_men = linkage(medals_men, method = 'ward')\nplt.figure(figsize=(10,20))\ndendrogram(mergings_men, labels = medals_men.index, leaf_rotation = 0, leaf_font_size=15, orientation='right')\nplt.show()\n\n# This dendrogram shows how closely certain men's events from different sports are related,\n# based on how countries perform in those events. For example:\n# Judo is close to taekwondo\n# Table tennis is close to badminton\n# Freestyle skiing is close to figure skating and snowboarding, etc.",
      "execution_count": null,
      "outputs": []
    },
    {
      "metadata": {
        "trusted": true,
        "_uuid": "04524b997ec7c41806f7bace16b6279f7f74e5d9"
      },
      "cell_type": "code",
      "source": "mergings_women = linkage(medals_women, method = 'ward')\nplt.figure(figsize=(10,20))\ndendrogram(mergings_women, labels = medals_women.index, leaf_rotation = 0, leaf_font_size=15, orientation='right')\nplt.show()",
      "execution_count": null,
      "outputs": []
    },
    {
      "metadata": {
        "trusted": true,
        "_uuid": "a94f2a28c8aee71485a86b06428de786a31a28b8"
      },
      "cell_type": "code",
      "source": "Country",
      "execution_count": null,
      "outputs": []
    },
    {
      "metadata": {
        "trusted": true,
        "_uuid": "374fd2b14ba95868f2b0c2defee9c580e520f045"
      },
      "cell_type": "code",
      "source": "olympics = olympics.loc[olympics.Year >= 1994]\n\n# Clean the Team column\n# Some of the entries in the column contain the country name followed by a dash and a number, such as China-2.\npd.options.mode.chained_assignment = None\nnew_Team = [team[:-2] if team[-2] == '-' else team for team in olympics.Team]\nolympics.Team = new_Team\n\ntop_countries = olympics.groupby('Team').Team.count().sort_values(ascending = False)[0:40,]",
      "execution_count": null,
      "outputs": []
    },
    {
      "metadata": {
        "trusted": true,
        "_uuid": "83e94ebb4e8c43149eaddccdccad8857714d9acc"
      },
      "cell_type": "code",
      "source": "olympics = olympics.loc[olympics.Team.isin(top_countries.index)]",
      "execution_count": null,
      "outputs": []
    },
    {
      "metadata": {
        "trusted": true,
        "_uuid": "afd93d702e8b971ed134910057ced1434e5c3ad4"
      },
      "cell_type": "code",
      "source": "top_sports = olympics.groupby('Sport').Sport.count().sort_values(ascending=False)[0:40,]\n",
      "execution_count": null,
      "outputs": []
    },
    {
      "metadata": {
        "trusted": true,
        "_uuid": "1146a757ecc62a39878c72ca33cbc622602db2c9"
      },
      "cell_type": "code",
      "source": "olympics_top_sports = olympics.loc[olympics.Sport.isin(top_sports.index)]\nolympics_our_sports = olympics[olympics.Sport.isin(['Swimming', 'Figure Skating', 'Table Tennis', 'Athletics'])]\n",
      "execution_count": null,
      "outputs": []
    },
    {
      "metadata": {
        "trusted": true,
        "_uuid": "c77015ff0d97d11f005f856491ed489e3bdf13e8"
      },
      "cell_type": "code",
      "source": "medals_top_sports = olympics_top_sports.loc[pd.notnull(olympics_top_sports.Medal)].groupby(['Team','Sport']).Team.count().unstack().fillna(0)\nmedals_our_sports = olympics_our_sports.loc[pd.notnull(olympics_our_sports.Medal)].groupby(['Team','Sport']).Team.count().unstack().fillna(0)",
      "execution_count": null,
      "outputs": []
    },
    {
      "metadata": {
        "trusted": true,
        "_uuid": "61f9ca4a61e61029470b4c39b41d2afeb436be11"
      },
      "cell_type": "code",
      "source": "mergings_top_sports = linkage(medals_top_sports, method = 'ward')\nplt.figure(figsize=(5,10))\ndendrogram(mergings_top_sports, labels = medals_top_sports.index, leaf_rotation = 0, leaf_font_size = 10, orientation = 'right')\nplt.show()\n\n# This dendrogram shows how closely certain countries are related based on their performance in the most popular olympic sports. \n# Many small European countries are clustered together, such as Slovenia, Estonia, Latvia, and Bulgaria.\n# As we move down the dendrogram, we get to larger countries that have won more medals, such as Germany, Australia, and USA.",
      "execution_count": null,
      "outputs": []
    },
    {
      "metadata": {
        "trusted": true,
        "_uuid": "dfc4b2c95482383b183e3c9d75230d1350ecd2d2"
      },
      "cell_type": "code",
      "source": "mergings_our_sports = linkage(medals_our_sports, method = 'ward')\nplt.figure(figsize=(5,10))\ndendrogram(mergings_our_sports, labels = medals_our_sports.index, leaf_rotation = 0, leaf_font_size = 10, orientation = 'right')\nplt.show()\n\n# If we only consider our four sports, a lot of countries will be extremely close to each other, simply because\n# they've won very few medals in these sports. \n# For example, Argentina is represented by the point (0, 0, 1, 0), which means they have won 0 medals in \n# athletics, figure skating, and table tennis, but 1 medal in swimming.\n# Switzerland is represented by the point (0, 1, 0, 0), which means they have won 0 medals in athletics,\n# swimming, and table tennis, but 1 medal in figure skating.\n# So, the distance between Argentina and Switzerland is extremely small, because the values of their coordinates\n# are almost all 0, meaning they will cluster together immediately.",
      "execution_count": null,
      "outputs": []
    }
  ],
  "metadata": {
    "kernelspec": {
      "display_name": "Python 3",
      "language": "python",
      "name": "python3"
    },
    "language_info": {
      "name": "python",
      "version": "3.6.6",
      "mimetype": "text/x-python",
      "codemirror_mode": {
        "name": "ipython",
        "version": 3
      },
      "pygments_lexer": "ipython3",
      "nbconvert_exporter": "python",
      "file_extension": ".py"
    }
  },
  "nbformat": 4,
  "nbformat_minor": 1
}