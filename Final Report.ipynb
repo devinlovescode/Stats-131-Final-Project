{
  "cells": [
    {
      "metadata": {
        "_uuid": "cfbc7296864d3c0086e9e8b1fba785ec9b23e038"
      },
      "cell_type": "markdown",
      "source": "# Background Information\n\n### Overview\nThe Olympic Games are a collection of sporting events featuring summer and winter sports competitions in which thousands of athletes from around the world compete in a variety of competitions. Today’s summer Olympic Games includes 33 sports with 400 events, and the winter Olympic Games includes 16 sports with 98 different events. The Olympics are held every four years with the Summer and Winter Olympics alternating every two years. \n\nTheir creation was inspired by the ancient Olympic Games, which were held in Olympia, Greece, from the 8th century BC to the 4th century AD. In 1894, Baron Pierre de Coubertin founded the International Olympic Committee (IOC), the governing body of the Olympic Movement, with the Olympic Charter defining its structure and authority.\n\nThe first Olympics was held in 1896, which most closely resembled today’s summer Olympics. Throughout the 20th and 21st century, the Olympics evolved. In 1924, the winter Olympic games were added. Over the years, many older sports/events i.e. tug of war, polo, and croquet as well as still popular sports such as baseball, softball, lacrosse, and cricket to name a few have been phased out. The games had to adjust to political and economic shifts. The Olympic games of 1912, 1940, and 1944 were canceled due to World War I and II. The Olympic games have been the center of conspiracies, boycotts, doping scandals, bribery, sabotage, and even a terrorist attack. Additionally, there was a shift in allowing professional players to participate in the Olympics. For many years only amateur people were allowed to compete. Now, the games have grown to the point that the IOC endorse the paralympics, junior olympics, and every nation is now represented today. Also the media popularity surrounding the Olympics give athletes and/or the city hosting the event the opportunity to become nationally and sometimes internationally famous. \n\nThe First Olympic games only had 14 countries and only 9 sports. Today the Olympics are held every 4 years, and it encompasses almost every country and every professional sport. There are only 16 countries that do not participate i.e. Somaliland (Internationally unrecognized country), Macau (an autonomous region of China), Tahiti (Territory of France), and some sports that are not played i.e. Chess, Bowling, Surfing.\n\n### Common knowledge shared among Olympics fans. \n* The Winter and Summer Olympics used to be held at the same time until 1992. They were staggered to happen two years apart, both on even years. They were staggered to better promote the sports in the Winter Olympics.\n\n* The 2020 Olympics are going to be held in Tokyo and will be the first one that will be available to watch anywhere in the world through holograms.\n\n* Women were not allowed to compete in 1896 but were allowed to compete afterward.\n\n* Between 1912-1948, artists such as painters, sculptors and musicians competed in their respective fields.\n\n* The Olympic flame is carried to all participating countries before the games and is supposed to be lit throughout the games.\n\n* The Symbol represents the 5 inhabited landmasses of the world which are :\n    -Blue: Europe\n    -Yellow: Asia\n    -Black: Africa\n    -Green: Australia\n    -Red: North and South America\n\n### Narrowing Scope\nAs a result of a large number of events and changes the Olympic committee has gone over, we have decided to focus on four sports and analyzing the events that have taken place after 1994. The four Sport-Events we have decided to focus on are:\n\n#### Table Tennis\nOne player serves the ball by tossing it at least six inches high, striking the ball with the paddle so that it bounces on his/her own side of the table, then the opponent's side of the table. The receiver must return the ball by hitting it back over the net before the ball bounces a second time on his/her side of the table.\n\nThe two players alternate returning the ball until one player misses their shot, by missing the ball completely, hitting the ball onto their side of the table, hitting the ball into the net, etc. Players alternate serving every two points, regardless of who won the point. The winner of a game is the first player to 11 points, with a lead of at least 2 points. So, if the score is 10-10, the game goes into deuce, where players now alternate serving every point. After each game, players switch table sides. Matches are usually played best of 7, so the first player to win 4 games wins.\n\nTable tennis is relatively new as an Olympic sport, having started in 1988. China has historically been extremely dominant in table tennis, to the point where they changed the format in 2012 so that only two competitors per country could enter an event, preventing China from winning all three medals in a category (which they did in both Men's Singles and Women's Singles in Beijing 2008). China has won 28 gold medals in table tennis. The second place country is South Korea, which has won 3 gold medals in table tennis. Table tennis is one of the few Olympic sports that the USA has never medaled in.\n\n#### Swimming Events: 100 meters\nSwimming requires a lot of athleticism and technique. The one hundred meter swim requires a great exertion of energy very quickly. There are four types of 100-meter swimming competitions. Each type requires competitors to swim in the competitions respective forms: breaststroke, freestyle, backstroke, and butterfly. Typically, competitors are best at one rarely two types of swimming forms. \n\nSwimmers start outside of the water on the platform called a starting block. All of them are on the same side of the pool. An alarm signals the start of the race. The swimmers dive into the water to start the race. Swimmers are not allowed to dive into the water before the alarm or its considered a false start. They must swim to either side of the pool and make contact with the pool wall. Swimming across the pool and touching one side is considered a lap. The first competitor to swim two laps the fastest wins. \n\n<img src=\"Screen Shot 2018-12-10 at 8.21.55 PM\"/>\n\nThese times were calculated using the final Olympic competitor times from the 2016 Rio Olympics. The lower and upper bounds were calculated by calculating the mean and adding/subtracting one sample standard deviation of the times.\n\n\n#### Figure Skating\nFigure skating is a sport that focuses on the manipulation of the skater's body weight and balance as they attempt several different elements such as jumps, spins, lifts (for pairs), intricate footwork and turns. Figure skating is usually done inside on an ice rink which allowed it to be present at all Summer Olympic events up until 1992. This also made the sport accessible year-round for training and competition for many countries. Music for these programs historically was limited to instrumental only, however, this has very recently been changed by the International Skating Union(ISU) beginning in 2014. Typically skaters choose their own music for their programs. The age requirement for figure skating changes by the ISU, but generally starts at a very early age (12 to 15 years old). Most figure skaters retire fairly early too, usually before they reach 30 due to it being a very difficult and demanding competitive sport.\n\nFigure Skating Competitions have two parts: a \"short program\" which lasts two minutes and fifty seconds and a \"long program\" (also called free skate) that lasts four minutes and thirty seconds. The short program compromises of a set of elements that a skater must complete, testing their technique and ability to perform certain types of jumps, spins, steps, or more of varying difficulties. The long program gives the skater more freedom for their routine and is focused around performance. For the singles events, there is a limit of 30 participants. Countries can earn up to 3 teams per event, depending on their skaters' placement in the most recent World Figure Skating Championships. Most of the spots are taken in this fashion, but there are other tournaments that could earn entries as well (Nebelhorn Trophy competition).\n\nFigure Skating used to be judged on a 6.0 scale. This scale included 3 elements: technical merit(long program), required elements(short program), and presentation(both). Each judge would score separately from each other for each program and then combined them to rank the skaters. However, it has been changed in due to a scandal at the 2002 Winter Olympics Pairs Event due to suspected biased scoring for the gold and silver medalists. It has since been changed to the ISU Judging System (IJS). This system is significantly more complex, including a technical panel for unbiased identification of skating elements, a referee, and a judging panel consisting of 9 people that grade using a combination of Program Component Scores (PCS), and Grade of Execution (GOE). Both of these scoring rubrics are specific on evaluations, and with a combined weighted score, skaters are then ranked. Men at the Olympics score in the mid to high 200's, sometimes getting above 300 (85-100 in short program, 180-200 in long program). Women at the same level of expertise score in the low 200's due to different scaling and the lack of quad's (4 revolutions in their jumps), which score very highly if done correctly, compared to the men's competition.\n\n#### Track and Field: 100 meters\nThe starting blocks are set by the runners (usually 30 minutes before their competition).\nThere are usually 2 heats, 1 quarterfinal,1 semi-final, and 1 final race. The Lanes are assigned by the athletes’ times in the qualifying rounds. The fastest times get lanes closer to the center. In the first heat, lanes are decided by previous run times of the athletes.2 Athletes with the best time move on to the next stage. In the final stage, the top 3 are awarded the medals. If there is a tie, both are awarded medals. Athletes run across the straight region of the 400m track. The Winner is determined by the first person to have their torso cross the finish line.\n\n In comparison to other track events, the 100m is the one with the least distance, therefore, making the start in this race very important. Recent rules have no false starts(starting to run before the starting gun). If someone is given a false start they are automatically disqualified. Before 2010, runners were allowed 1 false start. Another way of being disqualified is to cross into another lane. \n\nThe Best times are held by Usain Bolt (9.58 seconds) who happens to be the tallest and heaviest Olympic competitor for this event, in history. It is mostly calculated by sports scientists that 9.57 seconds is the fastest any person can run a 100m. \n\nAll people have fast twitch muscle fibers and slow twitch muscle fibers. Sprinters(Athletes who run 100m,200m) have a higher concentration of fast- twitch muscle fibers and are also usually taller and much stronger. Long Distance athletes (3000m and above) tend to have more slow twitch muscle fibers. They tend to be much thinner. Middle distance athletes somewhere in the middle in mix of muscle fibers and body structure. Most Sprinters are between 69 - 73 inches weighing between 160 - 190 pounds. Usain Bolt is 77 inches tall weighing 207 pounds is definitely an anomaly. \n\n\n## Data Discussion\nThe dataset is divided into athletes events and NOC regions. \n\n**Athletes Events Dataset**\n<img src=\"Screen Shot 2018-12-10 at 8.27.52 PM.png\"/>\n\n**NOC Regions**\n<img src=\"Screen Shot 2018-12-10 at 8.29.39 PM.png\"/>\n\n\n### Data Source and Collection\nThe data was compiled by Randi H Griffin who posted it on Kaggle. He web scraped it from www.sports-reference.com and the data is for public use on Kaggle. The data from Sports Reference was compiled for every year starting since April 2000  and the data before was found by Sports Reference using historical records. In April 2000  the information was uploaded to the website. The information is updated after every Olympic Games leading up to 2016. The dataset was posted before 2018, thus it does not cover the 2018 Winter Olympics.\n\n### Choices about the Data\nThe data we chose was a subset of the total data starting at 1994 and ending in 2016. 1994 was chosen since many countries did not participate in most events prior. 1994 onwards saw a boost in participation from countries. 1994 was also a good choice since there were countries newly formed(Eritrea) or countries that fell(USSR) prior to 1994. 2016 was the latest data available in the dataset.\n\nThe variables most important to our research were the Year, Team, Medal, and Event. Other variables had information that was already provided in our chosen variables(e.g NOC region, Games). Other variables were not considered as they would not have a big impact across all sports or there might be other variables that were more important. These include height, weight, and age. At the Olympic level variables such as skill level, experience or other physical attributes might give athletes a bigger edge.\n",
      "attachments": {}
    },
    {
      "metadata": {
        "_uuid": "8f2839f25d086af736a60e9eeb907d3b93b6e0e5",
        "_cell_guid": "b1076dfc-b9ad-4769-8c92-a6c4dae69d19",
        "trusted": true,
        "_kg_hide-input": true,
        "_kg_hide-output": true
      },
      "cell_type": "code",
      "source": "# This Python 3 environment comes with many helpful analytics libraries installed\n# It is defined by the kaggle/python docker image: https://github.com/kaggle/docker-python\n# For example, here's several helpful packages to load in \n\nimport numpy as np # linear algebra\nimport pandas as pd # data processing, CSV file I/O (e.g. pd.read_csv)\nimport matplotlib.pyplot as plt\nimport seaborn as sns\nimport matplotlib.cm as cm\nimport math\nimport plotly.graph_objs as go\nimport plotly.figure_factory as ff\nfrom plotly import tools\nfrom plotly.offline import download_plotlyjs, init_notebook_mode, plot, iplot\nfrom scipy.cluster.hierarchy import dendrogram, linkage\n\ninit_notebook_mode(connected=True)\n\n# Input data files are available in the \"../input/\" directory.\n# For example, running this (by clicking run or pressing Shift+Enter) will list the files in the input directory\n\nimport os\n\n# Any results you write to the current directory are saved as output.",
      "execution_count": null,
      "outputs": []
    },
    {
      "metadata": {
        "_uuid": "3d8a749beb291369d46d0d91adf5b71d0dd3fd61"
      },
      "cell_type": "markdown",
      "source": "### General Exploratory Data Analysis"
    },
    {
      "metadata": {
        "trusted": true,
        "_uuid": "98931c300a2301b609dc0ae0af9de8633582b379"
      },
      "cell_type": "code",
      "source": "data = pd.read_csv('../input/athlete_events.csv')\nnoc = pd.read_csv('../input/noc_regions.csv')",
      "execution_count": null,
      "outputs": []
    },
    {
      "metadata": {
        "trusted": true,
        "_uuid": "6bc31e1df3463753df97c2589f1b691d50f0e2ab"
      },
      "cell_type": "code",
      "source": "print(\"Athlete Events shape\", data.shape)\nprint(\"NOC Regions shape\", noc.shape)",
      "execution_count": null,
      "outputs": []
    },
    {
      "metadata": {
        "trusted": true,
        "_uuid": "7ba186db02d89976207c2a93b83ec133e3c9a467"
      },
      "cell_type": "code",
      "source": "df_joined = noc.merge(data, on='NOC')\n\nmissing_vals = df_joined.isna().sum(axis=0).reset_index()\nmissing_vals.columns = ['Label', 'Count']\nmissing_vals = missing_vals.loc[missing_vals.Count > 0].sort_values(by='Count')\nprint(missing_vals)\n\nplt.figure()\nbarplot = sns.barplot(x='Label', y='Count', data=missing_vals)\nbarplot.set(title='Count of Missing Values', xlabel='variables', ylabel='missing values')\nplt.xticks(rotation=60)\nplt.show()",
      "execution_count": null,
      "outputs": []
    },
    {
      "metadata": {
        "trusted": true,
        "_uuid": "95b00108ce2a95cc36f641759e7e08f28f82b7c1"
      },
      "cell_type": "code",
      "source": "x = data.groupby('Sport').Year.nunique().sort_values(ascending = False)\nplt.figure(figsize=(15,4))\nplt.bar(x.index, x)\nplt.xticks(rotation=90)\nplt.xlabel('Olympic Events')\nplt.ylabel('# of times Event at Olympic Games')\nplt.title(\"Increase of NOC at Olympics Over Time\")\nplt.show()",
      "execution_count": null,
      "outputs": []
    },
    {
      "metadata": {
        "trusted": true,
        "_uuid": "d06a991bea1c450c2f947da237f1c971e5df1e89"
      },
      "cell_type": "code",
      "source": "x = pd.DataFrame(data.groupby('Year').NOC.nunique()).reset_index()\nplt.xlabel('Year')\nplt.ylabel('Number of NOC')\nplt.title('Increase of NOC at Olympics (1896-2016)')\nplt.plot(x['Year'], x['NOC'])\nplt.show()",
      "execution_count": null,
      "outputs": []
    },
    {
      "metadata": {
        "trusted": true,
        "_uuid": "57ddf101aab5857202cd395d02b0f99452cfbd54"
      },
      "cell_type": "code",
      "source": "y = pd.DataFrame(data.groupby('Year').ID.nunique()).reset_index()\nplt.plot(y['Year'],y['ID'])\nplt.xlabel('Year')\nplt.ylabel('# of participants')\nplt.title('Increase of Participants at Olympics (1896-2016)')\nplt.show()",
      "execution_count": null,
      "outputs": []
    },
    {
      "metadata": {
        "trusted": true,
        "_uuid": "4ebd858aa2a705d6b285b801bbad8971015983ff"
      },
      "cell_type": "code",
      "source": "k = pd.DataFrame(data.groupby(['Year','NOC']).ID.nunique()).reset_index()\n\na = k.pivot(index='Year', columns = 'NOC', values='ID').fillna(0)\na_sub = a.sum(axis=0).sort_values(ascending=False).head(15).index.values\na_part = a.loc[:, a_sub]\n\nplt.stackplot(a_part.index, np.transpose(a_part), labels = a_part.columns)\nplt.plot(y['Year'], y['ID'], linewidth=1, color='black', label = \"Total\")\nplt.legend(bbox_to_anchor=(1.25,1.1))\nplt.xlabel('Year')\nplt.ylabel('Participants')\nplt.title('Participants of Major Countries over Time Compared to Total')\nplt.show()",
      "execution_count": null,
      "outputs": []
    },
    {
      "metadata": {
        "trusted": true,
        "_uuid": "8687ca80ce0c7f053cf080a99eb5d6bac05b55dd"
      },
      "cell_type": "code",
      "source": "plt.stackplot(a_part.index, np.transpose(a_part), labels = a_part.columns)\nplt.legend(bbox_to_anchor=(1.2,1.05))\nplt.xlabel('Year')\nplt.ylabel('Participants')\nplt.title('Participants per NOC at Olympic Games Over Time')\nplt.show()",
      "execution_count": null,
      "outputs": []
    },
    {
      "metadata": {
        "trusted": true,
        "_uuid": "7d9d3691c628e3feedf7b69fdc2dd455a5ece1e1"
      },
      "cell_type": "code",
      "source": "a = data[data['Year'] >= 1994]\na2 = a.groupby('Season').Event.unique()\na2.head()\n\nsummer = a2.Summer\nwinter = a2.Winter\n\nsummerevents = data[data.Event.isin(summer) == True]\nwinterevents = data[data.Event.isin(winter) == True]\n\nd = pd.merge(summerevents.groupby('NOC').Medal.count().reset_index(), winterevents.groupby('NOC').Medal.count().reset_index(), on = 'NOC')\nd.columns = ['NOC', 'SummerMedals', 'WinterMedals']\nd = d.set_index('NOC')\n\nc = d[d.index.isin(a_part) == True]\nplt.xticks(rotation=90)\nplt.xlabel(\"Countries\")\nplt.ylabel(\"# of Medals\")\nplt.title(\"Medal Count by Highly Successful Countries\")\nplt.plot(c, '.')\nplt.legend(labels=[\"Summer Medal\", \"Winter Medal\"], bbox_to_anchor=(1,1))\nplt.show()",
      "execution_count": null,
      "outputs": []
    },
    {
      "metadata": {
        "_uuid": "3382dde77545513317fb03f25ec776704cb80c69"
      },
      "cell_type": "markdown",
      "source": "### Table Tennis Exploratory Data Analysis"
    },
    {
      "metadata": {
        "trusted": true,
        "_uuid": "4a57af6dac94042fc4d0667628481eb6f2129e09"
      },
      "cell_type": "code",
      "source": "olympics = pd.read_csv('../input/athlete_events.csv')\n\n# Clean the Team column\n# Some of the entries in the column contain the country name followed by a dash and a number, such as China-2.\nnew_Team = [team[:-2] if team[-2] == '-' else team for team in olympics.Team]\nolympics.Team = new_Team\n\ntt_men = olympics.loc[(olympics.Sport == \"Table Tennis\") & (olympics.Sex == 'M')]\ntt_women = olympics.loc[(olympics.Sport == \"Table Tennis\") & (olympics.Sex == 'F')]\ntt_men_singles = olympics.loc[(olympics.Event == \"Table Tennis Men's Singles\")]",
      "execution_count": null,
      "outputs": []
    },
    {
      "metadata": {
        "trusted": true,
        "_uuid": "b5b5254ebe3e9bba3ddca81c003029e0408fda88"
      },
      "cell_type": "code",
      "source": "# Histograms for the age, height, and weight of table tennis players, grouped by gender\ntt_men.Age.plot(kind='hist', title = 'Athlete Age Distribution', alpha=0.5, label = 'Male')\ntt_women.Age.plot(kind='hist', alpha=0.5, label = 'Female')\nplt.xlabel('Age')\nplt.legend(loc ='upper right')\nplt.show()\n\ntt_men.Height.plot(kind='hist', title = 'Athlete Height Distribution', alpha=0.5, label = 'Male')\ntt_women.Height.plot(kind='hist', alpha=0.5, label = 'Female')\nplt.xlabel('Height (cm)')\nplt.legend(loc ='upper right')\nplt.show()\n\ntt_men.Weight.plot(kind='hist', title = 'Athlete Weight Distribution', alpha=0.5, label = 'Male')\ntt_women.Weight.plot(kind='hist', alpha=0.5, label = 'Female')\nplt.xlabel('Weight (kg)')\nplt.legend(loc ='upper right')\nplt.show()",
      "execution_count": null,
      "outputs": []
    },
    {
      "metadata": {
        "trusted": true,
        "_uuid": "9d9db7b20ee4ddd8c8736528ae4d4f06b53f1cf1"
      },
      "cell_type": "code",
      "source": "# Examine the huge outlier in the weight histogram\ntt_women.loc[tt_women.Weight == tt_women.Weight.max()]",
      "execution_count": null,
      "outputs": []
    },
    {
      "metadata": {
        "trusted": true,
        "_uuid": "135daa1b36030608b6aa26a0ba6aa2331795fcc8"
      },
      "cell_type": "code",
      "source": "# Looking for a particular player I knew\ntt_women.loc[tt_women.Name == 'Ariel Yenhua Hsing']",
      "execution_count": null,
      "outputs": []
    },
    {
      "metadata": {
        "trusted": true,
        "_uuid": "1606d21edf36949f146f4b6c126ac875b0284fa7"
      },
      "cell_type": "code",
      "source": "# Ariel defeated the oldest female athlete, Ni Xia Lian, in the round of 64\ntt_women.loc[tt_women.Age == tt_women.Age.max()]",
      "execution_count": null,
      "outputs": []
    },
    {
      "metadata": {
        "trusted": true,
        "_uuid": "bffddec415821f3a681a0e4f28d8c01c3cef1df0"
      },
      "cell_type": "code",
      "source": "# Is the oldest athlete male or female?\ntt_men.loc[tt_men.Age == tt_men.Age.max()]",
      "execution_count": null,
      "outputs": []
    },
    {
      "metadata": {
        "trusted": true,
        "_uuid": "03a0418022d5320f45673ef9322aa3f70867025d"
      },
      "cell_type": "code",
      "source": "men_singles_bronze = tt_men_singles.loc[tt_men_singles.Medal == 'Bronze'].groupby('Year')['Year'].count()\nmen_singles_bronze\n\n# Upon further research, there was no third place game played in 1992, leading to two bronze medals.",
      "execution_count": null,
      "outputs": []
    },
    {
      "metadata": {
        "trusted": true,
        "_uuid": "f19c176b53fed9e56220d71d715f627df6861cee"
      },
      "cell_type": "code",
      "source": "total_medals_country_men = tt_men.loc[pd.notnull(tt_men.Medal)].groupby('Team').Team.count()\ntotal_medals_country_men",
      "execution_count": null,
      "outputs": []
    },
    {
      "metadata": {
        "trusted": true,
        "_uuid": "47c1c938e3b2c9f64a0ce557d24db4dfc405b2f0"
      },
      "cell_type": "code",
      "source": "total_medals_country_women = tt_women.loc[pd.notnull(tt_women.Medal)].groupby('Team').Team.count()\ntotal_medals_country_women",
      "execution_count": null,
      "outputs": []
    },
    {
      "metadata": {
        "trusted": true,
        "_uuid": "d832e11629b13a57e34fce638baa865c17d6cc40"
      },
      "cell_type": "code",
      "source": "df = pd.DataFrame(data = {'Medals':total_medals_country_men}, index=total_medals_country_men.index).reset_index()\nprint(df)",
      "execution_count": null,
      "outputs": []
    },
    {
      "metadata": {
        "trusted": true,
        "_uuid": "6c3e92937b2e982cddf55e0c9756e99ce0121671"
      },
      "cell_type": "code",
      "source": "trace = go.Choropleth(\n            locations = df['Team'],\n            locationmode='country names',\n            z = df['Medals'],\n            text = df['Team'],\n            autocolorscale = False,\n            reversescale = True,\n            colorscale = 'Viridis',\n            marker = dict(\n                line = dict(\n                    color = 'rgb(0,0,0)',\n                    width = 1)\n            ),\n            colorbar = dict(\n                title = 'Medals',\n                tickprefix = '')\n        )\n\ndata = [trace]\nlayout = go.Layout(\n    title = 'Table Tennis Medals by Country (Men)',\n    geo = dict(\n        showframe = True,\n        showlakes = False,\n        showcoastlines = True,\n        projection = dict(\n            type = 'natural earth'\n        )\n    )\n)\n\nfig = dict( data=data, layout=layout )\niplot(fig)",
      "execution_count": null,
      "outputs": []
    },
    {
      "metadata": {
        "trusted": true,
        "_uuid": "6b4250ee56f131619ac248039fa93f7b0768a236"
      },
      "cell_type": "code",
      "source": "df2 = pd.DataFrame(data = {'Medals':total_medals_country_women}, index=total_medals_country_women.index).reset_index()\nprint(df2)",
      "execution_count": null,
      "outputs": []
    },
    {
      "metadata": {
        "trusted": true,
        "_uuid": "8cd2387b478eac2bbcfb6d1f675daf447c0af4c0"
      },
      "cell_type": "code",
      "source": "trace2 = go.Choropleth(\n            locations = df2['Team'],\n            locationmode='country names',\n            z = df2['Medals'],\n            text = df2['Team'],\n            autocolorscale = False,\n            reversescale = True,\n            colorscale = 'Viridis',\n            marker = dict(\n                line = dict(\n                    color = 'rgb(0,0,0)',\n                    width = 1)\n            ),\n            colorbar = dict(\n                title = 'Medals',\n                tickprefix = '')\n        )\n\ndata2 = [trace2]\nlayout = go.Layout(\n    title = 'Table Tennis Medals by Country (Women)',\n    geo = dict(\n        showframe = True,\n        showlakes = False,\n        showcoastlines = True,\n        projection = dict(\n            type = 'natural earth'\n        )\n    )\n)\n\nfig2 = dict( data=data2, layout=layout )\niplot(fig2)",
      "execution_count": null,
      "outputs": []
    },
    {
      "metadata": {
        "_uuid": "247c263158dc018c64e3f47567b030df26e2667b"
      },
      "cell_type": "markdown",
      "source": "**Swimming Event 100 Meters**"
    },
    {
      "metadata": {
        "trusted": true,
        "_uuid": "22980c7d203262dcb5f48a632b350c729e8be8ad"
      },
      "cell_type": "code",
      "source": "df_events = pd.read_csv(\"../input/athlete_events.csv\")\ndf_events = df_events.loc[df_events.Year >= 1994]\ndf_regions = pd.read_csv(\"../input/noc_regions.csv\")\ndf_joined = df_regions.merge(df_events, on='NOC')",
      "execution_count": null,
      "outputs": []
    },
    {
      "metadata": {
        "_uuid": "efa532b89b582dc93b07577b5f4b617b364aab8c"
      },
      "cell_type": "markdown",
      "source": "The first thing I noticed is that the there are two files that aren't very large so I am going to just read the whole files in. If the files were larger I wouldn't attempt to read the whole files in."
    },
    {
      "metadata": {
        "trusted": true,
        "_uuid": "9999b15430acca4b1211fca26bf71a86e382950f"
      },
      "cell_type": "code",
      "source": "# df_joined[df_joined.Sport.unique()]\ntmp = df_joined.loc[df_joined.Sport == 'Swimming', ['Event', 'Height', 'Weight']]\nswimming_events = pd.Series(tmp.Event.unique()[1:10])\n# print()\n\nplt.figure()\nsns.stripplot(x='Event', y='Height', data=tmp.loc[tmp.Event.isin(swimming_events)])\nplt.xticks(rotation=90)\nplt.ylabel(\"Weight (km)\")\nplt.title(\"Weigt of Athletes by Event\")\nplt.show()\n\nplt.figure()\nsns.stripplot(x='Event', y='Weight', data=tmp.loc[tmp.Event.isin(swimming_events)])\nplt.xticks(rotation=90)\nplt.ylabel(\"Height (cm)\")\nplt.title(\"Height of Athletes by Event\")\nplt.show()",
      "execution_count": null,
      "outputs": []
    },
    {
      "metadata": {
        "trusted": true,
        "_uuid": "1373094214f783f99fcba903c201c2384560feac"
      },
      "cell_type": "code",
      "source": "# which country has the most medals?\nprint(df_events.isna().sum(axis=0).reset_index())\nprint(df_regions.isna().sum(axis=0).reset_index())",
      "execution_count": null,
      "outputs": []
    },
    {
      "metadata": {
        "trusted": true,
        "_uuid": "1b7035e17c9ceb2bafd8b4b369cf051177533240"
      },
      "cell_type": "code",
      "source": "swimming_events = df_joined.loc[df_joined.Sport == 'Swimming']\nswimming_events = swimming_events.Event.unique()\nevent_subset = df_joined.Event.isin(swimming_events[11:20])\nevent_subset = df_joined.loc[event_subset]",
      "execution_count": null,
      "outputs": []
    },
    {
      "metadata": {
        "trusted": true,
        "_uuid": "c065d9d8c6262716d0c8e69ec8dde0850e45c433"
      },
      "cell_type": "code",
      "source": "swimming_events = df_joined.loc[df_joined.Sport == 'Swimming']\nswimming_events_100m_subset = pd.Series(data=[\"Swimming Women's 100 metres Backstroke\",\n                        \"Swimming Men's 100 metres Freestyle\",\n                        \"Swimming Women's 100 metres Butterfly\",\n                        \"Swimming Men's 100 metres Breaststroke\",\n                        \"Swimming Women's 100 metres Freestyle\",\n                        \"Swimming Men's 100 metres Backstroke\",\n                        \"Swimming Men's 100 metres Butterfly\",\n                        \"Swimming Women's 100 metres Breaststroke\",\n                        \"Swimming Men's 100 Yard Backstroke\",\n                        \"Swimming Men's 100 yard Freestyle\"])\nswimming_events_100m = swimming_events.loc[swimming_events.Event.isin(swimming_events_100m_subset)]",
      "execution_count": null,
      "outputs": []
    },
    {
      "metadata": {
        "trusted": true,
        "_uuid": "988bcb0b5af09194c953a554c1eeebc84f7c65cf"
      },
      "cell_type": "code",
      "source": "plt.figure()\nsns.stripplot(x='Event', y='Height', hue='Sex', data=swimming_events_100m)\nplt.xticks(rotation=90)\nplt.show()\n\nplt.figure()\nsns.stripplot(x='Event', y='Weight', hue='Sex', data=swimming_events_100m)\nplt.xticks(rotation=90)\nplt.show()",
      "execution_count": null,
      "outputs": []
    },
    {
      "metadata": {
        "trusted": true,
        "_uuid": "b25fc00790b61ad32c30f2274b53e05d4d1822cd"
      },
      "cell_type": "code",
      "source": "swimming_events_100m.loc['Placed'] = swimming_events_100m.Medal.apply(lambda x: 1 if pd.isnull(x) else 0)\nse100m_winners = swimming_events_100m.loc[~swimming_events_100m.Medal.isnull()]",
      "execution_count": null,
      "outputs": []
    },
    {
      "metadata": {
        "trusted": true,
        "_uuid": "b34e127e452a670a4efc24fa3fdbc8e5d261b306"
      },
      "cell_type": "code",
      "source": "plt.figure()\n# swimming_events_100m.groupby('NOC').Placed.sum()\nsns.countplot('NOC', data = se100m_winners)\nplt.xticks(rotation=90)\nplt.show()",
      "execution_count": null,
      "outputs": []
    },
    {
      "metadata": {
        "trusted": true,
        "_uuid": "d6a318330ff4c28dc2eee270a5a8e7e5cf8a3dca"
      },
      "cell_type": "code",
      "source": "plt.figure()\n# swimming_events_100m.groupby('NOC').Placed.sum()\nsns.countplot('NOC', data = se100m_winners.loc[~se100m_winners.NOC.isin(['USA','AUS'])])\nplt.xticks(rotation=90)\nplt.show()",
      "execution_count": null,
      "outputs": []
    },
    {
      "metadata": {
        "trusted": true,
        "_uuid": "b2b00f51883f908c0dc9f9bc72eb3915ef7cde60"
      },
      "cell_type": "code",
      "source": "# plt.figure()\n# swimming_events_100m.groupby('NOC').Placed.sum()\n# sns.stripplot('NOC', data = se100m_winners.loc[~se100m_winners.NOC.isin(['USA','AUS'])],\n#              hue=\"event\")\n# plt.xticks(rotation=90)\n# plt.show()\n# se100m_winners.loc[~se100m_winners.NOC.isin(['USA','AUS']), ['Year', 'Event', 'NOC', 'region']].sort_values(by='Year')\nplt.figure()\nsns.countplot('Team', data = se100m_winners.loc[~se100m_winners.NOC.isin(['USA','AUS']), ['Year', 'Event', 'Team', 'region']].sort_values(by='Year'))\nplt.xticks(rotation=90)\nplt.show()\n\n# se100m_winners.loc[se100m_winners.NOC == 'NED', ['Year', 'Event']].sort_values('Year')\n# se100m_winners.loc[se100m_winners.Year.isin([2012,2016]), ['Year', 'Event', 'region']].sort_values(by=['Year', 'Event'])\nplt.figure()\nsns.countplot('Team', data = se100m_winners.loc[se100m_winners.Year.isin([2012,2016]), ['Year', 'NOC', 'Event', 'Team']])\nplt.xticks(rotation=90)\nplt.show()",
      "execution_count": null,
      "outputs": []
    },
    {
      "metadata": {
        "trusted": true,
        "_uuid": "104fd8109b9219ef4d58441c44d5b540a97ef171"
      },
      "cell_type": "code",
      "source": "# se100m_winners.head(5)\ntmp = se100m_winners.groupby(['Year','Team']).count().Medal.reset_index()\n# tmp.Year = pd.to_datetime(tmp.Year, yearfirst=True)\n# print(tmp)\nchamps = tmp.loc[(tmp.Medal > 5) | (tmp.Medal == 0)].Team.unique()\ntmp = tmp.loc[~tmp.Team.isin(champs)]\n\nplt.figure()\nplt.subplots(figsize=(20,10))\nsns.lineplot(x=\"Year\", y=\"Medal\", hue = 'Team',\n             data=tmp)\nplt.xticks(np.linspace(1994, 2016, num=12))\nplt.show()",
      "execution_count": null,
      "outputs": []
    },
    {
      "metadata": {
        "trusted": true,
        "_uuid": "bf63ee4957235f54d3a58816875bec0ffea7081a"
      },
      "cell_type": "code",
      "source": "# olympics[[olympics.Event = ]]\nswimming_events_100m_subset = pd.Series(data=[\"Swimming Women's 100 metres Backstroke\",\n                        \"Swimming Men's 100 metres Freestyle\",\n                        \"Swimming Women's 100 metres Butterfly\",\n                        \"Swimming Men's 100 metres Breaststroke\",\n                        \"Swimming Women's 100 metres Freestyle\",\n                        \"Swimming Men's 100 metres Backstroke\",\n                        \"Swimming Men's 100 metres Butterfly\",\n                        \"Swimming Women's 100 metres Breaststroke\",\n                        \"Swimming Men's 100 Yard Backstroke\",\n                        \"Swimming Men's 100 yard Freestyle\"])\nolympics = olympics.loc[olympics.Year >= 1994]\nswimming_subset = olympics.loc[olympics.Event.isin(swimming_events_100m_subset)]\nswimming_subset = swimming_subset.loc[pd.notnull(swimming_subset.Medal)].groupby('Team').Team.count()\n\ndf2 = pd.DataFrame(data = {'Medals':swimming_subset}, index=swimming_subset.index).reset_index()\nprint(df2.sort_values(by='Medals'))\ntrace2 = go.Choropleth(\n            locations = df2['Team'],\n            locationmode='country names',\n            z = df2['Medals'],\n            text = df2['Team'],\n            autocolorscale = False,\n            reversescale = True,\n            colorscale = 'Viridis',\n            marker = dict(\n                line = dict(\n                    color = 'rgb(0,0,0)',\n                    width = 1)\n            ),\n            colorbar = dict(\n                title = 'Medals',\n                tickprefix = '')\n        )\n\ndata2 = [trace2]\nlayout = go.Layout(\n    title = 'Medal Density of Swimming 100m Events Men and Women',\n    geo = dict(\n        showframe = True,\n        showlakes = True,\n        showcoastlines = True,\n        projection = dict(\n            type = 'natural earth'\n        )\n    )\n)\n\nfig2 = dict( data=data2, layout=layout )\niplot(fig2)",
      "execution_count": null,
      "outputs": []
    },
    {
      "metadata": {
        "_uuid": "c1a78e0c1a7cb6f89508c7558541d71c5c47ae13"
      },
      "cell_type": "markdown",
      "source": "**Track and Field: 100M Sprint**"
    },
    {
      "metadata": {
        "trusted": true,
        "_uuid": "f3bd86b98dcd0981b69a9c0733fc9f1c6930068c"
      },
      "cell_type": "code",
      "source": "data= pd.read_csv('../input/athlete_events.csv')",
      "execution_count": null,
      "outputs": []
    },
    {
      "metadata": {
        "trusted": true,
        "_uuid": "e9af22969d7163dd7adeade5681a2a0169d74f65"
      },
      "cell_type": "code",
      "source": "track_data_men = data.loc[data['Event'] == \"Athletics Men's 100 metres\"]",
      "execution_count": null,
      "outputs": []
    },
    {
      "metadata": {
        "trusted": true,
        "_uuid": "a7b6abde36e3e103b02beb4cd84276bcddde8fa1"
      },
      "cell_type": "code",
      "source": "array = ['Gold', 'Silver','Bronze']\nmen_winners = track_data_men.loc[track_data_men['Medal'].isin(array)]",
      "execution_count": null,
      "outputs": []
    },
    {
      "metadata": {
        "_uuid": "91856527831845cac41272c44a37834b607099e8"
      },
      "cell_type": "markdown",
      "source": "This dataset focuses on the Medal winners out the Men's 100m"
    },
    {
      "metadata": {
        "trusted": true,
        "_uuid": "5b6f703e63381793a698846f4ba2c042862594f8"
      },
      "cell_type": "code",
      "source": "men_winners.head()",
      "execution_count": null,
      "outputs": []
    },
    {
      "metadata": {
        "trusted": true,
        "_uuid": "d26b7e4bf3d5bce89117a7b7277253b44a2daba1"
      },
      "cell_type": "code",
      "source": "Men_numeric = men_winners[['Age','Height','Weight']]\nMen_numeric.describe()",
      "execution_count": null,
      "outputs": []
    },
    {
      "metadata": {
        "_uuid": "1f36625a3165759c12d853a1b5f005e94130307a"
      },
      "cell_type": "markdown",
      "source": "The basic descriptive statistics of the numerical variables. There were 4 instances in the early olympics that did not record the height and weight of the athletes. This result is interesting as we can see that there is a big difference in weight. When comparing the 25th and 75th percentile for height we see that there is only a 8cm difference whereas with weight that is 11kgs. It shows that most winners are close in height but could have a huge difference in weight. They are also very close in age only being between 22 and 26. Interestingly, the heaviest and tallest athlete is Usain Bolt. There are 30 bronze medals(instead of 29) because in 1896, 2 athletes drew for the bronze medal."
    },
    {
      "metadata": {
        "trusted": true,
        "_uuid": "e0615ad6c2d11cc98eb51c2c4c226a0e23309364"
      },
      "cell_type": "code",
      "source": "men_winners.groupby('Medal').hist()",
      "execution_count": null,
      "outputs": []
    },
    {
      "metadata": {
        "_uuid": "e5dfc9f0f0c7dd7201f96ddaae83dc0ac0ea6a50"
      },
      "cell_type": "markdown",
      "source": "The above plots are to see the individual statistics by Medal type. The Year is not very useful, but looking at age we see that the majority for all medal types seem to between 20-25 region. Although bronze medalists tend to be 175-180, Gold and Silver medalists tend to be taller than 180cm. The same applies for weight in that bronze medalists where we see that many are below 70kg and between 70-80kg, but in the other medals they are predominantly 80kg or over.\n"
    },
    {
      "metadata": {
        "trusted": true,
        "_uuid": "ef81964fc7d389cfb82370e744cd438551c72d1e"
      },
      "cell_type": "code",
      "source": "from pandas.plotting import scatter_matrix\nscatter_matrix(men_winners, alpha=0.2, figsize=(6, 6), diagonal='hist')\nscatter_matrix(men_winners, alpha=0.2, figsize=(6, 6), diagonal='kde')\nplt.show()",
      "execution_count": null,
      "outputs": []
    },
    {
      "metadata": {
        "_uuid": "28ed10f296b8e797cea48314bbe09399315f2c70"
      },
      "cell_type": "markdown",
      "source": "Next to see if there is any relationship between the variables. There is no observable patterns, apart from the Height and Weight having a linear relationship."
    },
    {
      "metadata": {
        "trusted": true,
        "_uuid": "611aa25680aa21658b2d904d88c8ac1c5181af52"
      },
      "cell_type": "code",
      "source": "heightplot = sns.regplot(x=\"Year\", y=\"Height\", data=men_winners,)\nheightplot.set_title('Height By Year')\nheightplot.set_xlabel('Year')\nheightplot.set_ylabel('Height')\nplt.show()",
      "execution_count": null,
      "outputs": []
    },
    {
      "metadata": {
        "trusted": true,
        "_uuid": "012876d2386b07e0d4e4dde0b2cfe6ec2f281050"
      },
      "cell_type": "code",
      "source": "weightplot = sns.regplot(x=\"Year\", y=\"Weight\", data=men_winners)\nweightplot.set_title('Weight By Year')\nweightplot.set_xlabel('Year')\nweightplot.set_ylabel('Weight')\nplt.show()",
      "execution_count": null,
      "outputs": []
    },
    {
      "metadata": {
        "trusted": true,
        "_uuid": "8cbc415e610d6f37af9e09ce569dc28884792a9e"
      },
      "cell_type": "code",
      "source": "ageplot = sns.regplot(x=\"Year\", y=\"Age\", data=men_winners)\nageplot.set_title('Age By Year')\nageplot.set_xlabel('Year')\nageplot.set_ylabel('Age')\nplt.show()",
      "execution_count": null,
      "outputs": []
    },
    {
      "metadata": {
        "_uuid": "377cc2b81591abdb76f1e7a7b24d263fdee13576"
      },
      "cell_type": "markdown",
      "source": "The 3 plots above look at Heigh,Weight and Age across Time. We see that as the sport is gets more competitive the athletes are coming in heavier and taller as this could give them a slight edge. What was suprising to see is that this pattern also applies for age. As the years go by, training methods and healthcare is improving, allowing older athletes to compete and do well in the olympics."
    },
    {
      "metadata": {
        "trusted": true,
        "_uuid": "4fd745e0c6badf0732e8f1a3e836b18a5d650096"
      },
      "cell_type": "code",
      "source": "men_winners.groupby('Team').size().reset_index(name='Medal Count').sort_values(by=['Medal Count'],ascending=False)",
      "execution_count": null,
      "outputs": []
    },
    {
      "metadata": {
        "_uuid": "6fdc4116f0053a3f8dcb7416281b1c2ebdbd43b5"
      },
      "cell_type": "markdown",
      "source": "Looking at the plot above although we see that out of the 206 participating countries only 18 countries have won medals. 41 of the 88 have gone to the USA, showing that they are a great team for the Men's 100m across olympic history."
    },
    {
      "metadata": {
        "trusted": true,
        "_uuid": "f87217b0bd732d2f2e8b21ff6619af1d0708e84d"
      },
      "cell_type": "code",
      "source": "men_recent_winners = men_winners[men_winners.Year > 1992]\nmen_recent_winners",
      "execution_count": null,
      "outputs": []
    },
    {
      "metadata": {
        "trusted": true,
        "_uuid": "7bb96b536da9d3146871a47c36c0fc9b2f8ba7b1"
      },
      "cell_type": "code",
      "source": "men_recent_winners.groupby('Team').size().reset_index(name='Medal Count').sort_values(by=['Medal Count'],ascending=False)\n",
      "execution_count": null,
      "outputs": []
    },
    {
      "metadata": {
        "_uuid": "9aa1e883054581c9319ec6b8e70db5e325a6114b"
      },
      "cell_type": "markdown",
      "source": "If we look at the subset of winners in this event in the recent years we see that the difference between Jamaica and USA is much smaller, showing that they have been getting more medal winners in this category in recent years."
    },
    {
      "metadata": {
        "_uuid": "374ba5547b87ae6c6c61baa3277ff7a940a5b06d"
      },
      "cell_type": "markdown",
      "source": "**Figure Skating**\n\n"
    },
    {
      "metadata": {
        "trusted": true,
        "_uuid": "d47e5c8309918648167db524224d7774910fead5"
      },
      "cell_type": "code",
      "source": "data = pd.read_csv('../input/athlete_events.csv')\nnoc = pd.read_csv('../input/noc_regions.csv')",
      "execution_count": null,
      "outputs": []
    },
    {
      "metadata": {
        "_uuid": "9913d6914077393802ce070e4faba0fb6420571f"
      },
      "cell_type": "markdown",
      "source": "Figure skating has been an Olympic sport since the 1908 Summer Olympics. There are a total of 5 events within the category, a solo event for men and women, and 3 paired events. Originally it started as Men's Singles, Women's Singles, and Mixed Pairs, but in 1976 Ice Dancing became an event and in 2014 a Mixed Team event was also created. In this exploratory data analysis we will focus on the single events."
    },
    {
      "metadata": {
        "trusted": true,
        "_uuid": "156f5e5998a8b42f314f52bf099ad058cd2c0778"
      },
      "cell_type": "code",
      "source": "print(data[data['Sport'] == 'Figure Skating'].groupby('Event').Event.count())",
      "execution_count": null,
      "outputs": []
    },
    {
      "metadata": {
        "trusted": true,
        "_uuid": "023f2e475bc2db420cb32d11457778515a7befd7"
      },
      "cell_type": "code",
      "source": "print(data[data['Sport'] == 'Figure Skating'].groupby('Event').Event.count())",
      "execution_count": null,
      "outputs": []
    },
    {
      "metadata": {
        "trusted": true,
        "_uuid": "17f35c9ffafd68f3c0de26b6420f64477f4e3535"
      },
      "cell_type": "code",
      "source": "print(data[data['Event'] == \"Figure Skating Men's Special Figures\"])",
      "execution_count": null,
      "outputs": []
    },
    {
      "metadata": {
        "trusted": true,
        "_uuid": "8ed4d50b487aee57b5753997af4c8c550e789e9f"
      },
      "cell_type": "code",
      "source": "print(data[data['Event'] == 'Figure Skating Mixed Pairs'].groupby(['Year','Team']).ID.count().head(10))",
      "execution_count": null,
      "outputs": []
    },
    {
      "metadata": {
        "_uuid": "5110b35ac80ada736f3313663bb39417372e7d70"
      },
      "cell_type": "markdown",
      "source": "We see that the data contains two athlete ID's per team for mixed pairs event."
    },
    {
      "metadata": {
        "trusted": true,
        "_uuid": "57129f42fa43d5c3d73f04b6978cc9e41018ada4"
      },
      "cell_type": "code",
      "source": "print(data.groupby('Sport').Age.mean().sort_values(ascending=True).head())",
      "execution_count": null,
      "outputs": []
    },
    {
      "metadata": {
        "trusted": true,
        "_uuid": "569250b824456b5a6a9e18015830c44d004a4c67"
      },
      "cell_type": "code",
      "source": "mfs = data[data['Event'] == \"Figure Skating Men's Singles\"]\nffs = data[data['Event'] == \"Figure Skating Women's Singles\"]",
      "execution_count": null,
      "outputs": []
    },
    {
      "metadata": {
        "trusted": true,
        "_uuid": "7bd5000d50361d54420e95f9d43580f28e7e375f"
      },
      "cell_type": "code",
      "source": "print(mfs.shape,\"\\n\", ffs.shape)",
      "execution_count": null,
      "outputs": []
    },
    {
      "metadata": {
        "trusted": true,
        "_uuid": "557249a3b17fd3e40c1895105877455a65c23b34"
      },
      "cell_type": "code",
      "source": "## For Men\nprint(mfs.mean(), '\\n')\nprint(mfs.median())",
      "execution_count": null,
      "outputs": []
    },
    {
      "metadata": {
        "trusted": true,
        "_uuid": "1a1c9062b521ba6fc0ae133f68bd12fc88300dee"
      },
      "cell_type": "code",
      "source": "## For Women\nprint(ffs.mean(), '\\n')\nprint(ffs.median())",
      "execution_count": null,
      "outputs": []
    },
    {
      "metadata": {
        "trusted": true,
        "_uuid": "6d6a37c6d8ea32145c73a5989211b3a144559a0e"
      },
      "cell_type": "code",
      "source": "sns.distplot(mfs.Age.dropna(), color = 'blue', hist = False, label='men')\nsns.distplot(ffs.Age.dropna(), color = 'red', hist = False, label='women')\nplt.ylabel('Density')\nplt.title('Ages in Figure Skating')\nplt.show()",
      "execution_count": null,
      "outputs": []
    },
    {
      "metadata": {
        "_uuid": "f31ca639e78bcdd359ad6a7579dac3876644e34b"
      },
      "cell_type": "markdown",
      "source": "Pretty hard cutoff by 30 for women, and most women appear to be under twenty years old. Men's age is more normally distributed, with some athletes that compete over 30."
    },
    {
      "metadata": {
        "trusted": true,
        "_uuid": "1b70d068bbff1343d3bd3e0e44ca39530bd754b5"
      },
      "cell_type": "code",
      "source": "sns.distplot(mfs.Height.dropna(), color = 'blue', hist=False, label = 'men')\nsns.distplot(ffs.Height.dropna(), color = 'red', hist=False, label = 'women')\nplt.ylabel('Density')\nplt.title('Height(in cm) in Figure Skating')\nplt.show()",
      "execution_count": null,
      "outputs": []
    },
    {
      "metadata": {
        "_uuid": "cebf8346eb6dde3052a2473c9f23ad8647e40e8e"
      },
      "cell_type": "markdown",
      "source": "Nothing particularly exciting about this graph. Both genders have normally distributed heights."
    },
    {
      "metadata": {
        "trusted": true,
        "_uuid": "36af684c758ed1dafb8280330a639a1f83c4a069"
      },
      "cell_type": "code",
      "source": "sns.distplot(mfs.Weight.dropna(), color = 'blue', hist=False, label = 'men')\nsns.distplot(ffs.Weight.dropna(), color = 'red', hist=False, label = 'women')\nplt.ylabel('Density')\nplt.title('Weight(in kg) in Figure Skating')\nplt.show()",
      "execution_count": null,
      "outputs": []
    },
    {
      "metadata": {
        "_uuid": "34c2e8696aa64a36940c32d35caebc52eb3ce5c6"
      },
      "cell_type": "markdown",
      "source": "More normal curves. Are figure skaters potentially underweight for their respective heights/age? One way to test this is with BMI (not the most reliable methods, but possible given our data)."
    },
    {
      "metadata": {
        "trusted": true,
        "_uuid": "7a1ccb128b6b9f867b53748486f5305fae113518"
      },
      "cell_type": "code",
      "source": "tempm = mfs[['Weight', 'Height']].dropna()\ntempf = ffs[['Weight', 'Height']].dropna()\ntempm.Height = tempm.Height/100.0\ntempf.Height = tempf.Height/100.0\nBMIm = tempm.Weight/(tempm.Height*tempm.Height)\nBMIf = tempf.Weight/(tempf.Height*tempf.Height)",
      "execution_count": null,
      "outputs": []
    },
    {
      "metadata": {
        "trusted": true,
        "_uuid": "c429d5b6ecc3ee53242a482308e795b93f6685b3"
      },
      "cell_type": "code",
      "source": "sns.distplot(BMIm, color = 'blue', hist=False, label = 'men')\nsns.distplot(BMIf, color = 'red', hist=False, label= 'women')\nplt.ylabel('Density')\nplt.title('BMI Scores in Figure Skating')\nplt.show()",
      "execution_count": null,
      "outputs": []
    },
    {
      "metadata": {
        "_uuid": "a076225e1d0bcb3360533a7ec0659c51cf35de0c"
      },
      "cell_type": "markdown",
      "source": "\nA \"healthy\" BMI value is considered to be between 18.5 to 24. We can see here that the men mostly fit into that area, but female figure skaters have a lower BMI overall. Could these lower BMI values be associated with what country these athletes are coming from?"
    },
    {
      "metadata": {
        "trusted": true,
        "_uuid": "011f9148c1bdaf9309c7d161db21cd50e7ad11f9"
      },
      "cell_type": "code",
      "source": "tempbmi = ffs.loc[BMIf.index,['Name','Team', 'Age', 'NOC', 'Year', 'Medal']]\ntempbmi['BMI'] = BMIf\ntempbmi = pd.merge(tempbmi, noc, how='left', on ='NOC')",
      "execution_count": null,
      "outputs": []
    },
    {
      "metadata": {
        "trusted": true,
        "_uuid": "8caf092eed3898b46eb080aaf0b3dd71c12ce8bc"
      },
      "cell_type": "code",
      "source": "print(tempbmi.groupby('region').BMI.mean().sort_values(ascending=True).head(10), \"\\n\")\nprint(tempbmi.groupby('region').BMI.mean().sort_values(ascending=True).tail(10), \"\\n\")",
      "execution_count": null,
      "outputs": []
    },
    {
      "metadata": {
        "_uuid": "f6b10e3675c3fc93656dac825dc3ea9d07575b57"
      },
      "cell_type": "markdown",
      "source": "We see that while some countries have good BMI score means, others have a low mean value."
    },
    {
      "metadata": {
        "_uuid": "ec6dbd0b898fdca2d0d6dda3ada48adfde7e36bc"
      },
      "cell_type": "markdown",
      "source": "### Medals Won in Figure Skating"
    },
    {
      "metadata": {
        "trusted": true,
        "_uuid": "5e72eb7807fb5027272e5034a373306b4d75b8af"
      },
      "cell_type": "code",
      "source": "mfs = pd.merge(mfs, noc, how='left', on='NOC')\nffs = pd.merge(ffs, noc, how='left', on='NOC')",
      "execution_count": null,
      "outputs": []
    },
    {
      "metadata": {
        "_uuid": "6087e3ab8914a86b1adaedf3ec0e360d86507ac2"
      },
      "cell_type": "markdown",
      "source": "#### Medals per NOC Committee"
    },
    {
      "metadata": {
        "trusted": true,
        "_uuid": "16b93267d9d4a7188f56ef719b00cdf31e3465f5"
      },
      "cell_type": "code",
      "source": "\n## Total medals for men's singles by country\nmenmedals = mfs.groupby('region').Medal.count().sort_values(ascending=False)\nprint(menmedals.head(10), \"\\n\\n\\n\")\n\n## Total medels for women's singles by country\nwomenmedals = ffs.groupby('region').Medal.count().sort_values(ascending=False)\nprint(womenmedals.head(10))",
      "execution_count": null,
      "outputs": []
    },
    {
      "metadata": {
        "_uuid": "4afba094e308f937ea9392f0b8b975aa074c4d02"
      },
      "cell_type": "markdown",
      "source": "We see some similar countries, such as the USA, Russia, Austria, and Germany that are top competitors for both the men's and women's events."
    },
    {
      "metadata": {
        "trusted": true,
        "_uuid": "656a83c1a7383d7995f0f357a7a5312edd2138c9"
      },
      "cell_type": "code",
      "source": "## Medals won per Rank per Country\nprint(mfs.groupby(['region', 'Medal']).Medal.count().sort_values(ascending = False).head(15), \"\\n\\n\\n\\n\")\nprint(ffs.groupby(['region', 'Medal']).Medal.count().sort_values(ascending = False).head(15))",
      "execution_count": null,
      "outputs": []
    },
    {
      "metadata": {
        "trusted": true,
        "_uuid": "f275cfacf61e7bcdfc812cc8b15114ccf8bc8eea"
      },
      "cell_type": "code",
      "source": "print(mfs.groupby('Medal').region.nunique(), '\\n\\n\\n')\nprint(ffs.groupby('Medal').region.nunique())",
      "execution_count": null,
      "outputs": []
    },
    {
      "metadata": {
        "trusted": true,
        "_uuid": "b54de868d34ab4abf0dcb33ae9544d4904fa1fed"
      },
      "cell_type": "code",
      "source": "print(mfs.groupby('region').Medal.count().sort_values(ascending=False).head(10), '\\n\\n\\n')\nprint(ffs.groupby('region').Medal.count().sort_values(ascending=False).head(10))",
      "execution_count": null,
      "outputs": []
    },
    {
      "metadata": {
        "trusted": true,
        "_uuid": "fe795ade8d48279c815ae915660251a040f379b3"
      },
      "cell_type": "code",
      "source": "## Number of NOC committees participating per event\nprint(ffs.region.nunique())\nprint(mfs.region.nunique(), '\\n')\n\n## Number of Medals obtained from 1908 to 2014 per event\nprint(mfs.Medal.count())\nprint(ffs.Medal.count())",
      "execution_count": null,
      "outputs": []
    },
    {
      "metadata": {
        "_uuid": "b973ab09956a02b2dd4a978ab3471d2b5d378d1a"
      },
      "cell_type": "markdown",
      "source": "We see that out of 44 countries that compete, very few of them have ever achieved medalists (less than half of them receive any medals at all). For female athletes in particular, the USA alone won almost one third of all possible medals in the singles event for the entire lifetime of the event at the Olympics."
    },
    {
      "metadata": {
        "trusted": true,
        "_uuid": "1991dc2a00ab1a6647bf41d9d03a8e9a1d0a4d75"
      },
      "cell_type": "code",
      "source": "## The number of medals won per athlete\nm_med = mfs.groupby(['Name', 'Team']).Medal.count()\nf_med = ffs.groupby(['Name', 'Team']).Medal.count()\nprint(m_med.sort_values(ascending=False).head(10), '\\n\\n\\n')\nprint(f_med.sort_values(ascending=False).head(10))",
      "execution_count": null,
      "outputs": []
    },
    {
      "metadata": {
        "_uuid": "400f1ce3a5da319d6af097f66efd3f96b0479a4f"
      },
      "cell_type": "markdown",
      "source": "The highest number of Medals won by an Olympic Figure Skater was 4. We see that it is not too uncommon for figure skaters to attempt multiple years if they were successful previously."
    },
    {
      "metadata": {
        "trusted": true,
        "_uuid": "233811527741e90d0be3066068878aa58ad79aab"
      },
      "cell_type": "code",
      "source": "## The number of Olympics participated in per athlete\nm_oly = mfs.groupby(['Name', 'Team']).Year.nunique()\nf_oly = ffs.groupby(['Name', 'Team']).Year.nunique()\nprint(m_oly.sort_values(ascending=False).head(10), '\\n\\n\\n')\nprint(f_oly.sort_values(ascending=False).head(10))",
      "execution_count": null,
      "outputs": []
    },
    {
      "metadata": {
        "_uuid": "b448ce9e67873a6dd58d59c2424df48f009b3323"
      },
      "cell_type": "markdown",
      "source": "It will probably be more interesting to observe the proportion between their medal count and Olympic attempts (their \"success rate\" at the Olympic Games)."
    },
    {
      "metadata": {
        "trusted": true,
        "_uuid": "252da1ccdffeb8b6e7a718c011f3bcf0c06051c5"
      },
      "cell_type": "code",
      "source": "m_attempt = pd.merge(pd.DataFrame(m_med).reset_index(), pd.DataFrame(m_oly).reset_index(), on = 'Name')\nf_attempt = pd.merge(pd.DataFrame(f_med).reset_index(), pd.DataFrame(f_oly).reset_index(), on = 'Name')\nm_attempt['Prop'] = m_attempt.Medal/m_attempt.Year\nf_attempt['Prop'] = f_attempt.Medal/f_attempt.Year",
      "execution_count": null,
      "outputs": []
    },
    {
      "metadata": {
        "trusted": true,
        "_uuid": "292812b26f405041f2fff6b265fb4f3503977846"
      },
      "cell_type": "code",
      "source": "print(m_attempt.loc[:,['Name','Team_x','Medal','Prop']].sort_values(['Prop','Medal'], ascending = False).head(10))",
      "execution_count": null,
      "outputs": []
    },
    {
      "metadata": {
        "trusted": true,
        "_uuid": "fe8240ea26068188c8a1d814d2e8b13cfcba5ec5"
      },
      "cell_type": "code",
      "source": "print(f_attempt.loc[:,['Name','Team_x','Medal','Prop']].sort_values(['Prop','Medal'], ascending = False).head(10))",
      "execution_count": null,
      "outputs": []
    },
    {
      "metadata": {
        "_uuid": "f684fc17aa2c37532bfa3fce97c38004a9a757a5"
      },
      "cell_type": "markdown",
      "source": "We see that Gillis Emanuel Grafström was the only athlete in figure skating to win 4 medals over 4 Olympic Games. However, there were several strong athletes that came back to the Olympics to win a second medal. We do see some problems though. Aleksey Yevgenyevich Urmanov is listed twice for males, which seems odd. We also see something wrong for Katarina Witt in East Germany. So we need investigate further."
    },
    {
      "metadata": {
        "trusted": true,
        "_uuid": "deab0acd663ab1c1022cccee24ad06a2d85d7cba"
      },
      "cell_type": "code",
      "source": "print(data[data['Name'] == 'Aleksey Yevgenyevich Urmanov'].loc[:,['Name','Team','NOC','Year','Medal']], '\\n\\n\\n')",
      "execution_count": null,
      "outputs": []
    },
    {
      "metadata": {
        "trusted": true,
        "_uuid": "4d18c3da16849bfe4493ac8357aba8f9ae5ddc7d"
      },
      "cell_type": "code",
      "source": "print(data[data['Name'] == 'Katarina Witt'].loc[:,['Name','Team','NOC','Year', 'Medal']], '\\n\\n\\n')",
      "execution_count": null,
      "outputs": []
    },
    {
      "metadata": {
        "_uuid": "4188f768fb7a75d8bdda77359211da0dc7169d6e"
      },
      "cell_type": "markdown",
      "source": "Because Katarina Witt participiated in Olymipcs from 1984 and 1994, her Team changed from East Germany to Germany after the reunification of Germany in 1989. From the actual data, we see she participated 3 times, and won 2 medals."
    },
    {
      "metadata": {
        "_uuid": "c799b49ed7a9cbd2d680a589f9f9fefd9dfd1a1b"
      },
      "cell_type": "markdown",
      "source": "Participants"
    },
    {
      "metadata": {
        "trusted": true,
        "_uuid": "84f0e04787d35b200d512c6783417542a37c2b04"
      },
      "cell_type": "code",
      "source": "m = pd.DataFrame(mfs.groupby('Year').Name.count()).reset_index()\nf = pd.DataFrame(ffs.groupby('Year').Name.count()).reset_index()\n\n#plt.scatter(mfs.Year.unique(), mfs.groupby('Year').Name.count(), color = 'blue')\n#plt.scatter(pd.DataFrame(ffs.groupby('Year').Name.count()).reindex())\nplt.plot(m['Year'], m['Name'], color = 'blue', label = 'men')\nplt.plot(f['Year'], f['Name'], color = 'red', label = 'women')\nplt.xlabel('Year')\nplt.ylabel('# of Participants')\nplt.title('# of Participants per Year')\nplt.legend(loc = 'lower right')\nplt.show()",
      "execution_count": null,
      "outputs": []
    },
    {
      "metadata": {
        "_uuid": "7e2c2784320ffb1cb6fb8c30a33eae9d45ea2a8d"
      },
      "cell_type": "markdown",
      "source": "\nWe see that the number of competitors in the events shifted drastically, and only stabilized close to above 25 competitors after the year 2000."
    },
    {
      "metadata": {
        "trusted": true,
        "_uuid": "7f7c7e4c4d1a4d15e6862dabc109dcbfabc4f9a1"
      },
      "cell_type": "code",
      "source": "m_ppy = pd.DataFrame(mfs.groupby(['Year','region']).Name.nunique()).reset_index()\nf_ppy = pd.DataFrame(ffs.groupby(['Year','region']).Name.nunique()).reset_index()\n\nprint(m_ppy[m_ppy['Year'] == 2014], '\\n\\n\\n')\nprint(f_ppy[f_ppy['Year'] == 2014])",
      "execution_count": null,
      "outputs": []
    },
    {
      "metadata": {
        "_uuid": "6609d1f6b9df072ca247398a6b8abf56cbf4e934"
      },
      "cell_type": "markdown",
      "source": "For the 2014 Winter Olympics, Canada, Japan, and the USA brought a lot of members for both events.\n\n"
    },
    {
      "metadata": {
        "trusted": true,
        "_uuid": "87a3ef60a2c36044c555f1736f5c6e953d3a11d2",
        "_kg_hide-input": false
      },
      "cell_type": "code",
      "source": "m_ppy = m_ppy[m_ppy['Year'] >= 2000]\nf_ppy = f_ppy[f_ppy['Year'] >= 2000]",
      "execution_count": null,
      "outputs": []
    },
    {
      "metadata": {
        "trusted": true,
        "_uuid": "1da45abf52b54a172d14ad3113dcaa21bef3e03b",
        "_kg_hide-input": true
      },
      "cell_type": "code",
      "source": "sns.set_palette('deep', 44)\nplt.stackplot(m_ppy.pivot('Year','region','Name').index, np.transpose(m_ppy.pivot('Year','region', 'Name').fillna(0)))\nl1 = plt.legend(bbox_to_anchor=(1.38, 0), labels = m_ppy.pivot('Year','region','Name').columns[0:20], labelspacing = -2)\nl2 = plt.legend(bbox_to_anchor=(1.67,0.5), labels = m_ppy.pivot('Year', 'region', 'Name').columns[20:33], labelspacing = -2)\nplt.gca().add_artist(l1)\nplt.xlabel('Year')\nplt.xticks([2002, 2006, 2010, 2014])\nplt.ylabel('Participants')\nplt.title('Stackplot of Participants per Region')\nplt.show()",
      "execution_count": null,
      "outputs": []
    },
    {
      "metadata": {
        "_uuid": "399b7be1a0700a9fea08a81d602104efce656851"
      },
      "cell_type": "markdown",
      "source": "We see that in the four most recent Winter Olympics, countries like the USA, Japan, Canada, and France have been able to send multiple athletes for the men's single event. We see other countries such as North Korea, Poland, and Slovenia that were able to participate only once or twice, with only a single athlete representing their country."
    },
    {
      "metadata": {
        "trusted": true,
        "_uuid": "8734555f689c6842542bd7487b7e8832fbe1a401",
        "_kg_hide-input": true
      },
      "cell_type": "code",
      "source": "\nplt.stackplot(f_ppy.pivot('Year','region','Name').index, np.transpose(f_ppy.pivot('Year','region', 'Name').fillna(0)))\nl1 = plt.legend(bbox_to_anchor=(1.38, 0), labels = f_ppy.pivot('Year','region','Name').columns[0:20], labelspacing = -2)\nl2 = plt.legend(bbox_to_anchor=(1.67,0.5), labels = f_ppy.pivot('Year', 'region', 'Name').columns[20:35], labelspacing = -2)\nplt.gca().add_artist(l1)\nplt.xlabel('Year')\nplt.xticks([2002, 2006, 2010, 2014])\nplt.ylabel('Participants')\nplt.title('Stackplot of Participants per Region')\nplt.show()",
      "execution_count": null,
      "outputs": []
    },
    {
      "metadata": {
        "_uuid": "8be5923d4859973c0f7fb2d44ed1330af4dbf01e"
      },
      "cell_type": "markdown",
      "source": "For women, we see USA, Russia, Canada, and Japan that are able to send more than one athlete per Olympics. However, unlike the male teams, we see other countries such as China, Uzbekistan, and Australia that are more consistently able to compete in this event."
    },
    {
      "metadata": {
        "_uuid": "282e8f9d88b97998d7f0f899a68d0305ba4c16f1"
      },
      "cell_type": "markdown",
      "source": "# Model"
    },
    {
      "metadata": {
        "_uuid": "a79239eb7dd57f49c735be3840063b2c36a7cd67"
      },
      "cell_type": "markdown",
      "source": "## Dendogram by Sport"
    },
    {
      "metadata": {
        "trusted": true,
        "_uuid": "1459026207e8519d4c4b84011abee304d4abc9ec"
      },
      "cell_type": "code",
      "source": "olympics = pd.read_csv('../input/athlete_events.csv')\nolympics = olympics.loc[olympics.Year >= 1994]\n\n# Clean the Team column\n# Some of the entries in the column contain the country name followed by a dash and a number, such as China-2.\npd.options.mode.chained_assignment = None\nnew_Team = [team[:-2] if team[-2] == '-' else team for team in olympics.Team]\nolympics.Team = new_Team\n\ntop_countries = olympics.groupby('Team').Team.count().sort_values(ascending = False)[0:40,]\nolympics = olympics.loc[olympics.Team.isin(top_countries.index)]\n\nolympics_men = olympics.loc[olympics.Sex == 'M']\nolympics_women = olympics.loc[olympics.Sex == 'F']\n\n# Determine the most popular event within each sport category for men and women\ndf_men = olympics_men.groupby(['Sport','Event']).Sport.count()\nsports_men = df_men.index.get_level_values(0)\nevents_men = df_men.loc[df_men.groupby(sports_men).idxmax()].index.get_level_values(level=1).tolist()\n\ndf_women = olympics_women.groupby(['Sport','Event']).Sport.count()\nsports_women = df_women.index.get_level_values(0)\nevents_women = df_women.loc[df_women.groupby(sports_women).idxmax()].index.get_level_values(level=1).tolist()\n\nolympics_men = olympics_men.loc[olympics_men.Event.isin(events_men)]\nolympics_women = olympics_women.loc[olympics_women.Event.isin(events_women)]\nmedals_men = olympics_men.loc[pd.notnull(olympics_men.Medal)].groupby(['Team','Event']).Team.count().unstack(level=0).fillna(0)\nmedals_women = olympics_women.loc[pd.notnull(olympics_women.Medal)].groupby(['Team','Event']).Team.count().unstack(level=0).fillna(0)",
      "execution_count": null,
      "outputs": []
    },
    {
      "metadata": {
        "_uuid": "2e0cbc548bd5e5d83340f8e5d9ff519c4ea44d36"
      },
      "cell_type": "markdown",
      "source": "This dendrogram shows how closely certain men's events from different sports are related, based on how countries perform in those events. For example: Judo is close to taekwondo Table tennis is close to badminton Freestyle skiing is close to figure skating and snowboarding, etc."
    },
    {
      "metadata": {
        "trusted": true,
        "_uuid": "38856044ecfc2fd643c9fc26b726d9dfe22b5f3f",
        "_kg_hide-input": true
      },
      "cell_type": "code",
      "source": "\nmergings_men = linkage(medals_men, method = 'ward')\nplt.figure(figsize=(10,20))\ndendrogram(mergings_men, labels = medals_men.index, leaf_rotation = 0, leaf_font_size=15, orientation='right')\nplt.show()",
      "execution_count": null,
      "outputs": []
    },
    {
      "metadata": {
        "trusted": true,
        "_uuid": "04524b997ec7c41806f7bace16b6279f7f74e5d9",
        "_kg_hide-input": true
      },
      "cell_type": "code",
      "source": "mergings_women = linkage(medals_women, method = 'ward')\nplt.figure(figsize=(10,20))\ndendrogram(mergings_women, labels = medals_women.index, leaf_rotation = 0, leaf_font_size=15, orientation='right')\nplt.show()",
      "execution_count": null,
      "outputs": []
    },
    {
      "metadata": {
        "trusted": true,
        "_uuid": "a94f2a28c8aee71485a86b06428de786a31a28b8"
      },
      "cell_type": "markdown",
      "source": "## Country"
    },
    {
      "metadata": {
        "trusted": true,
        "_uuid": "374fd2b14ba95868f2b0c2defee9c580e520f045"
      },
      "cell_type": "code",
      "source": "olympics = pd.read_csv('../input/athlete_events.csv')\n\nolympics = olympics.loc[olympics.Year >= 1994]\n\n# Clean the Team column\n# Some of the entries in the column contain the country name followed by a dash and a number, such as China-2.\npd.options.mode.chained_assignment = None\nnew_Team = [team[:-2] if team[-2] == '-' else team for team in olympics.Team]\nolympics.Team = new_Team\n\ntop_countries = olympics.groupby('Team').Team.count().sort_values(ascending = False)[0:40,]\n\nolympics = olympics.loc[olympics.Team.isin(top_countries.index)]\n\ntop_sports = olympics.groupby('Sport').Sport.count().sort_values(ascending=False)[0:40,]\n\nolympics_top_sports = olympics.loc[olympics.Sport.isin(top_sports.index)]\nolympics_our_sports = olympics[olympics.Sport.isin(['Swimming', 'Figure Skating', 'Table Tennis', 'Athletics'])]\n\nmedals_top_sports = olympics_top_sports.loc[pd.notnull(olympics_top_sports.Medal)].groupby(['Team','Sport']).Team.count().unstack().fillna(0)\nmedals_our_sports = olympics_our_sports.loc[pd.notnull(olympics_our_sports.Medal)].groupby(['Team','Sport']).Team.count().unstack().fillna(0)\n",
      "execution_count": null,
      "outputs": []
    },
    {
      "metadata": {
        "_uuid": "f7bc709cb6ae9125748427e3fa1ede57e8df922b"
      },
      "cell_type": "markdown",
      "source": "This dendrogram shows how closely certain countries are related based on their performance in the most popular olympic sports. Many small European countries are clustered together, such as Slovenia, Estonia, Latvia, and Bulgaria.As we move down the dendrogram, we get to larger countries that have won more medals, such as Germany, Australia, and USA."
    },
    {
      "metadata": {
        "trusted": true,
        "_uuid": "61f9ca4a61e61029470b4c39b41d2afeb436be11",
        "_kg_hide-input": true
      },
      "cell_type": "code",
      "source": "mergings_top_sports = linkage(medals_top_sports, method = 'ward')\nplt.figure(figsize=(5,10))\ndendrogram(mergings_top_sports, labels = medals_top_sports.index, leaf_rotation = 0, leaf_font_size = 10, orientation = 'right')\nplt.show()",
      "execution_count": null,
      "outputs": []
    },
    {
      "metadata": {
        "_uuid": "36e2fa5890d36e52ad43ae0a90085947f215688b"
      },
      "cell_type": "markdown",
      "source": "If we only consider our four sports, a lot of countries will be extremely close to each other, simply because they've won very few medals in these sports. For example, Argentina is represented by the point (0, 0, 1, 0), which means they have won 0 medals in athletics, figure skating, and table tennis, but 1 medal in swimming. Switzerland is represented by the point (0, 1, 0, 0), which means they have won 0 medals in athletics, swimming, and table tennis, but 1 medal in figure skating. So, the distance between Argentina and Switzerland is extremely small, because the values of their coordinates are almost all 0, meaning they will cluster together immediately."
    },
    {
      "metadata": {
        "trusted": true,
        "_uuid": "dfc4b2c95482383b183e3c9d75230d1350ecd2d2",
        "_kg_hide-input": true,
        "_kg_hide-output": false
      },
      "cell_type": "code",
      "source": "mergings_our_sports = linkage(medals_our_sports, method = 'ward')\nplt.figure(figsize=(5,10))\ndendrogram(mergings_our_sports, labels = medals_our_sports.index, leaf_rotation = 0, leaf_font_size = 10, orientation = 'right')\nplt.show()",
      "execution_count": null,
      "outputs": []
    },
    {
      "metadata": {
        "trusted": true,
        "_uuid": "91922c2573654d0901544131d19779b1e6aea28b"
      },
      "cell_type": "code",
      "source": "",
      "execution_count": null,
      "outputs": []
    },
    {
      "metadata": {
        "trusted": true,
        "_uuid": "e16d03c873fc2e5ba46224866a0bba4bb5e58359"
      },
      "cell_type": "code",
      "source": "",
      "execution_count": null,
      "outputs": []
    }
  ],
  "metadata": {
    "kernelspec": {
      "display_name": "Python 3",
      "language": "python",
      "name": "python3"
    },
    "language_info": {
      "name": "python",
      "version": "3.6.6",
      "mimetype": "text/x-python",
      "codemirror_mode": {
        "name": "ipython",
        "version": 3
      },
      "pygments_lexer": "ipython3",
      "nbconvert_exporter": "python",
      "file_extension": ".py"
    }
  },
  "nbformat": 4,
  "nbformat_minor": 1
}